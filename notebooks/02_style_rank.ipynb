{
 "cells": [
  {
   "cell_type": "code",
   "execution_count": 1,
   "metadata": {},
   "outputs": [],
   "source": [
    "%load_ext autoreload\n",
    "%autoreload 2"
   ]
  },
  {
   "cell_type": "markdown",
   "metadata": {},
   "source": [
    "### **CLIP-I, CLIP-T, DINO**"
   ]
  },
  {
   "cell_type": "markdown",
   "metadata": {},
   "source": [
    "- **CLIP-I** - average pairwise cosine similarity between CLIP embeddings of generated and real images\n",
    "- **CLIP-T** - average cosine similarity between prompt and CLIP embeddings of generated images\n",
    "- **DINO** - average pairwise cosine similarity between the Vit-S/16 DINO embeddings of generated and real images"
   ]
  },
  {
   "cell_type": "code",
   "execution_count": 2,
   "metadata": {},
   "outputs": [],
   "source": [
    "import os\n",
    "\n",
    "os.chdir(\"/net/tscratch/people/plglukaszst/projects/ziplora-analysis/\")"
   ]
  },
  {
   "cell_type": "code",
   "execution_count": 3,
   "metadata": {},
   "outputs": [
    {
     "name": "stderr",
     "output_type": "stream",
     "text": [
      "/net/tscratch/people/plglukaszst/envs/lora/lib/python3.11/site-packages/diffusers/models/transformers/transformer_2d.py:34: FutureWarning: `Transformer2DModelOutput` is deprecated and will be removed in version 1.0.0. Importing `Transformer2DModelOutput` from `diffusers.models.transformer_2d` is deprecated and this will be removed in a future version. Please use `from diffusers.models.modeling_outputs import Transformer2DModelOutput`, instead.\n",
      "  deprecate(\"Transformer2DModelOutput\", \"1.0.0\", deprecation_message)\n"
     ]
    }
   ],
   "source": [
    "from PIL import Image\n",
    "import matplotlib.pyplot as plt\n",
    "import torch\n",
    "from torchvision import transforms\n",
    "from torch.nn import functional as F\n",
    "from transformers import AutoModel, AutoProcessor, AutoTokenizer\n",
    "import argparse\n",
    "import os\n",
    "\n",
    "import torch\n",
    "from diffusers import DiffusionPipeline, StableDiffusionXLImg2ImgPipeline\n",
    "import itertools\n"
   ]
  },
  {
   "cell_type": "code",
   "execution_count": 4,
   "metadata": {},
   "outputs": [],
   "source": [
    "device = torch.device('cuda' if torch.cuda.is_available() else \"cpu\")"
   ]
  },
  {
   "cell_type": "code",
   "execution_count": 5,
   "metadata": {},
   "outputs": [],
   "source": [
    "from PIL import Image\n",
    "\n",
    "def image_grid(imgs, rows, cols):\n",
    "    assert len(imgs) == rows*cols\n",
    "\n",
    "    w, h = imgs[0].size\n",
    "    grid = Image.new('RGB', size=(cols*w, rows*h))\n",
    "    grid_w, grid_h = grid.size\n",
    "    \n",
    "    for i, img in enumerate(imgs):\n",
    "        grid.paste(img, box=(i%cols*w, i//cols*h))\n",
    "    return grid"
   ]
  },
  {
   "cell_type": "code",
   "execution_count": 6,
   "metadata": {},
   "outputs": [],
   "source": [
    "def get_model_outs(pretrained_model_name_or_path: str, prompts:list, samples_per_prompt: int):\n",
    "    model_path = pretrained_model_name_or_path\n",
    "    diffusion_pipe = DiffusionPipeline.from_pretrained(\n",
    "        model_path, torch_dtype=torch.float16\n",
    "    )\n",
    "    diffusion_pipe = diffusion_pipe.to(\"cuda\")\n",
    "    generator = torch.Generator(\"cuda\")\n",
    "    generator = generator.manual_seed(0)\n",
    "\n",
    "    tasks_prompts = []\n",
    "    tasks_samples = []\n",
    "    for current_prompt in prompts:\n",
    "        task_prompts = [current_prompt] * samples_per_prompt\n",
    "        task_samples = diffusion_pipe(\n",
    "            prompt=task_prompts, output_type=\"pil\", generator=generator\n",
    "        )\n",
    "        task_prompts.append(task_prompts)\n",
    "        tasks_samples.append(task_samples)\n",
    "\n",
    "    return tasks_prompts, list(itertools.chain.from_iterable([out.images for out in tasks_samples]))"
   ]
  },
  {
   "cell_type": "code",
   "execution_count": 26,
   "metadata": {},
   "outputs": [],
   "source": [
    "N_TASKS = 5\n",
    "MODELS = [\"watercolor_painting_style_sd1_rank256\", \"oil_painting_style_sd2_rank256\", \"colored_smoke_style_sd3_rank256\", \"wooden_sculpture_style_sd4_rank256\", \"cartoon_line_drawing_style_sd5_rank256\"]\n",
    "TOKENS = [\"skn style\", \"zwz style\", \"sbu style\", \"uwu style\", \"pdw style\"]\n",
    "AFTER_TASK_MODEL = {\n",
    "    k+1:v for k,v in zip(range(N_TASKS), MODELS)\n",
    "}\n",
    "TOKEN_TASK = {\n",
    "    k+1: v for k,v in zip(range(N_TASKS), MODELS)\n",
    "}\n",
    "\n",
    "PROMPTS = ['a wizard in {}', 'a policeman in {}', 'a santa hat in {}', 'a clock in {}', 'a mirror in {}']\n"
   ]
  },
  {
   "cell_type": "code",
   "execution_count": 27,
   "metadata": {},
   "outputs": [],
   "source": [
    "def run_model(task_number):\n",
    "    if task_number >= 1:\n",
    "        per_task_outs = {}\n",
    "        for curr_task_number in range(task_number):\n",
    "            task_outs = {}\n",
    "            model_path = f\"./models/rank/style/{AFTER_TASK_MODEL[task_number]}\"\n",
    "            prompts = [\n",
    "                prompt.format(TOKEN_TASK[curr_task_number+1]) for prompt in PROMPTS\n",
    "            ]\n",
    "            out_prompts, out_samples = get_model_outs(pretrained_model_name_or_path=model_path, prompts=prompts, samples_per_prompt=8)\n",
    "            task_outs[\"prompts\"] = out_prompts\n",
    "            task_outs[\"samples\"] = out_samples\n",
    "            per_task_outs[curr_task_number+1] = task_outs\n",
    "        return per_task_outs\n",
    "    else:\n",
    "        per_task_outs = {}\n",
    "        for curr_task_number in range(5):\n",
    "            task_outs = {}\n",
    "            model_path = f\"stabilityai/stable-diffusion-xl-base-1.0\"\n",
    "            prompts = [\n",
    "                prompt.format(TOKEN_TASK[curr_task_number+1]) for prompt in PROMPTS\n",
    "            ]\n",
    "            out_prompts, out_samples = get_model_outs(pretrained_model_name_or_path=model_path, prompts=prompts, samples_per_prompt=8)\n",
    "            task_outs[\"prompts\"] = out_prompts\n",
    "            task_outs[\"samples\"] = out_samples\n",
    "            per_task_outs[curr_task_number+1] = task_outs\n",
    "        return per_task_outs"
   ]
  },
  {
   "cell_type": "code",
   "execution_count": 9,
   "metadata": {},
   "outputs": [
    {
     "data": {
      "application/vnd.jupyter.widget-view+json": {
       "model_id": "648aadeec8fb4d208dc60c4c194449b6",
       "version_major": 2,
       "version_minor": 0
      },
      "text/plain": [
       "Loading pipeline components...:   0%|          | 0/7 [00:00<?, ?it/s]"
      ]
     },
     "metadata": {},
     "output_type": "display_data"
    },
    {
     "data": {
      "application/vnd.jupyter.widget-view+json": {
       "model_id": "82de1939ac9344dea3001f13fc24b0da",
       "version_major": 2,
       "version_minor": 0
      },
      "text/plain": [
       "  0%|          | 0/50 [00:00<?, ?it/s]"
      ]
     },
     "metadata": {},
     "output_type": "display_data"
    },
    {
     "name": "stderr",
     "output_type": "stream",
     "text": [
      "/net/tscratch/people/plglukaszst/envs/lora/lib/python3.11/site-packages/torch/nn/modules/conv.py:456: UserWarning: Plan failed with an OutOfMemoryError: CUDA out of memory. Tried to allocate 8.00 GiB. GPU  (Triggered internally at ../aten/src/ATen/native/cudnn/Conv_v8.cpp:924.)\n",
      "  return F.conv2d(input, weight, bias, self.stride,\n",
      "/net/tscratch/people/plglukaszst/envs/lora/lib/python3.11/site-packages/torch/nn/modules/conv.py:456: UserWarning: Plan failed with an OutOfMemoryError: CUDA out of memory. Tried to allocate 16.00 GiB. GPU  (Triggered internally at ../aten/src/ATen/native/cudnn/Conv_v8.cpp:924.)\n",
      "  return F.conv2d(input, weight, bias, self.stride,\n",
      "/net/tscratch/people/plglukaszst/envs/lora/lib/python3.11/site-packages/torch/nn/modules/conv.py:456: UserWarning: Plan failed with an OutOfMemoryError: CUDA out of memory. Tried to allocate 24.01 GiB. GPU  (Triggered internally at ../aten/src/ATen/native/cudnn/Conv_v8.cpp:924.)\n",
      "  return F.conv2d(input, weight, bias, self.stride,\n",
      "/net/tscratch/people/plglukaszst/envs/lora/lib/python3.11/site-packages/torch/nn/modules/conv.py:456: UserWarning: Plan failed with an OutOfMemoryError: CUDA out of memory. Tried to allocate 24.00 GiB. GPU  (Triggered internally at ../aten/src/ATen/native/cudnn/Conv_v8.cpp:924.)\n",
      "  return F.conv2d(input, weight, bias, self.stride,\n",
      "/net/tscratch/people/plglukaszst/envs/lora/lib/python3.11/site-packages/torch/nn/modules/conv.py:456: UserWarning: Plan failed with an OutOfMemoryError: CUDA out of memory. Tried to allocate 16.01 GiB. GPU  (Triggered internally at ../aten/src/ATen/native/cudnn/Conv_v8.cpp:924.)\n",
      "  return F.conv2d(input, weight, bias, self.stride,\n",
      "/net/tscratch/people/plglukaszst/envs/lora/lib/python3.11/site-packages/torch/nn/modules/conv.py:456: UserWarning: Plan failed with an OutOfMemoryError: CUDA out of memory. Tried to allocate 16.30 GiB. GPU  (Triggered internally at ../aten/src/ATen/native/cudnn/Conv_v8.cpp:924.)\n",
      "  return F.conv2d(input, weight, bias, self.stride,\n",
      "/net/tscratch/people/plglukaszst/envs/lora/lib/python3.11/site-packages/torch/nn/modules/conv.py:456: UserWarning: Plan failed with an OutOfMemoryError: CUDA out of memory. Tried to allocate 12.00 GiB. GPU  (Triggered internally at ../aten/src/ATen/native/cudnn/Conv_v8.cpp:924.)\n",
      "  return F.conv2d(input, weight, bias, self.stride,\n",
      "/net/tscratch/people/plglukaszst/envs/lora/lib/python3.11/site-packages/torch/nn/modules/conv.py:456: UserWarning: Plan failed with a cudnnException: CUDNN_BACKEND_EXECUTION_PLAN_DESCRIPTOR: cudnnFinalize Descriptor Failed cudnn_status: CUDNN_STATUS_NOT_SUPPORTED (Triggered internally at ../aten/src/ATen/native/cudnn/Conv_v8.cpp:919.)\n",
      "  return F.conv2d(input, weight, bias, self.stride,\n"
     ]
    },
    {
     "data": {
      "application/vnd.jupyter.widget-view+json": {
       "model_id": "ea53490c742b4132bb51b542e1ec9ef4",
       "version_major": 2,
       "version_minor": 0
      },
      "text/plain": [
       "  0%|          | 0/50 [00:00<?, ?it/s]"
      ]
     },
     "metadata": {},
     "output_type": "display_data"
    },
    {
     "data": {
      "application/vnd.jupyter.widget-view+json": {
       "model_id": "6460642ca9514e35be273588eeb7dbcc",
       "version_major": 2,
       "version_minor": 0
      },
      "text/plain": [
       "  0%|          | 0/50 [00:00<?, ?it/s]"
      ]
     },
     "metadata": {},
     "output_type": "display_data"
    },
    {
     "data": {
      "application/vnd.jupyter.widget-view+json": {
       "model_id": "cbc51a3e49d44d8f9cb941f3e3234757",
       "version_major": 2,
       "version_minor": 0
      },
      "text/plain": [
       "  0%|          | 0/50 [00:00<?, ?it/s]"
      ]
     },
     "metadata": {},
     "output_type": "display_data"
    },
    {
     "data": {
      "application/vnd.jupyter.widget-view+json": {
       "model_id": "6a64fc825ce948b3ac82344e58d88753",
       "version_major": 2,
       "version_minor": 0
      },
      "text/plain": [
       "  0%|          | 0/50 [00:00<?, ?it/s]"
      ]
     },
     "metadata": {},
     "output_type": "display_data"
    },
    {
     "data": {
      "application/vnd.jupyter.widget-view+json": {
       "model_id": "18b0460021284e928b9a89b4fda7f74e",
       "version_major": 2,
       "version_minor": 0
      },
      "text/plain": [
       "Loading pipeline components...:   0%|          | 0/7 [00:00<?, ?it/s]"
      ]
     },
     "metadata": {},
     "output_type": "display_data"
    },
    {
     "data": {
      "application/vnd.jupyter.widget-view+json": {
       "model_id": "caa34ed04a17415998f24734b183d5fe",
       "version_major": 2,
       "version_minor": 0
      },
      "text/plain": [
       "  0%|          | 0/50 [00:00<?, ?it/s]"
      ]
     },
     "metadata": {},
     "output_type": "display_data"
    },
    {
     "data": {
      "application/vnd.jupyter.widget-view+json": {
       "model_id": "7cf4983ebdb34069857dee9d89c575a9",
       "version_major": 2,
       "version_minor": 0
      },
      "text/plain": [
       "  0%|          | 0/50 [00:00<?, ?it/s]"
      ]
     },
     "metadata": {},
     "output_type": "display_data"
    },
    {
     "data": {
      "application/vnd.jupyter.widget-view+json": {
       "model_id": "a7f22f1a3eae4153ba316181fcbf8b53",
       "version_major": 2,
       "version_minor": 0
      },
      "text/plain": [
       "  0%|          | 0/50 [00:00<?, ?it/s]"
      ]
     },
     "metadata": {},
     "output_type": "display_data"
    },
    {
     "data": {
      "application/vnd.jupyter.widget-view+json": {
       "model_id": "14e6bc37e4c94444840bbf8de0c1e015",
       "version_major": 2,
       "version_minor": 0
      },
      "text/plain": [
       "  0%|          | 0/50 [00:00<?, ?it/s]"
      ]
     },
     "metadata": {},
     "output_type": "display_data"
    },
    {
     "data": {
      "application/vnd.jupyter.widget-view+json": {
       "model_id": "4f9073166f4c4d209801bea84faedb9e",
       "version_major": 2,
       "version_minor": 0
      },
      "text/plain": [
       "  0%|          | 0/50 [00:00<?, ?it/s]"
      ]
     },
     "metadata": {},
     "output_type": "display_data"
    },
    {
     "data": {
      "application/vnd.jupyter.widget-view+json": {
       "model_id": "5f37a363a37d448497657d652b9818a5",
       "version_major": 2,
       "version_minor": 0
      },
      "text/plain": [
       "Loading pipeline components...:   0%|          | 0/7 [00:00<?, ?it/s]"
      ]
     },
     "metadata": {},
     "output_type": "display_data"
    },
    {
     "data": {
      "application/vnd.jupyter.widget-view+json": {
       "model_id": "ba27e965e07d4fdeaa8fde6cc76ce988",
       "version_major": 2,
       "version_minor": 0
      },
      "text/plain": [
       "  0%|          | 0/50 [00:00<?, ?it/s]"
      ]
     },
     "metadata": {},
     "output_type": "display_data"
    },
    {
     "data": {
      "application/vnd.jupyter.widget-view+json": {
       "model_id": "fb98c1d222ad413ab66f811ac368772a",
       "version_major": 2,
       "version_minor": 0
      },
      "text/plain": [
       "  0%|          | 0/50 [00:00<?, ?it/s]"
      ]
     },
     "metadata": {},
     "output_type": "display_data"
    },
    {
     "data": {
      "application/vnd.jupyter.widget-view+json": {
       "model_id": "8d9da3f1042b4bde923aa5f6f38118de",
       "version_major": 2,
       "version_minor": 0
      },
      "text/plain": [
       "  0%|          | 0/50 [00:00<?, ?it/s]"
      ]
     },
     "metadata": {},
     "output_type": "display_data"
    },
    {
     "data": {
      "application/vnd.jupyter.widget-view+json": {
       "model_id": "a0ceb0760a4b4ffcb303fa0f3f6ea33a",
       "version_major": 2,
       "version_minor": 0
      },
      "text/plain": [
       "  0%|          | 0/50 [00:00<?, ?it/s]"
      ]
     },
     "metadata": {},
     "output_type": "display_data"
    },
    {
     "data": {
      "application/vnd.jupyter.widget-view+json": {
       "model_id": "5ea32652a3a84054afea879a86bb0045",
       "version_major": 2,
       "version_minor": 0
      },
      "text/plain": [
       "  0%|          | 0/50 [00:00<?, ?it/s]"
      ]
     },
     "metadata": {},
     "output_type": "display_data"
    },
    {
     "data": {
      "application/vnd.jupyter.widget-view+json": {
       "model_id": "931ac12a4b024700aaef51262a54741b",
       "version_major": 2,
       "version_minor": 0
      },
      "text/plain": [
       "Loading pipeline components...:   0%|          | 0/7 [00:00<?, ?it/s]"
      ]
     },
     "metadata": {},
     "output_type": "display_data"
    },
    {
     "data": {
      "application/vnd.jupyter.widget-view+json": {
       "model_id": "27087a1c795a4a179d01d963e8920558",
       "version_major": 2,
       "version_minor": 0
      },
      "text/plain": [
       "  0%|          | 0/50 [00:00<?, ?it/s]"
      ]
     },
     "metadata": {},
     "output_type": "display_data"
    },
    {
     "data": {
      "application/vnd.jupyter.widget-view+json": {
       "model_id": "2e7382af52cc4363925399c78d0fa1bb",
       "version_major": 2,
       "version_minor": 0
      },
      "text/plain": [
       "  0%|          | 0/50 [00:00<?, ?it/s]"
      ]
     },
     "metadata": {},
     "output_type": "display_data"
    },
    {
     "data": {
      "application/vnd.jupyter.widget-view+json": {
       "model_id": "46da4b869d8847519bc2d378c85e6465",
       "version_major": 2,
       "version_minor": 0
      },
      "text/plain": [
       "  0%|          | 0/50 [00:00<?, ?it/s]"
      ]
     },
     "metadata": {},
     "output_type": "display_data"
    },
    {
     "data": {
      "application/vnd.jupyter.widget-view+json": {
       "model_id": "d71c06fca5ff447eb1be32fc9a823cdb",
       "version_major": 2,
       "version_minor": 0
      },
      "text/plain": [
       "  0%|          | 0/50 [00:00<?, ?it/s]"
      ]
     },
     "metadata": {},
     "output_type": "display_data"
    },
    {
     "data": {
      "application/vnd.jupyter.widget-view+json": {
       "model_id": "41d7389337c04cecb29810192960f53b",
       "version_major": 2,
       "version_minor": 0
      },
      "text/plain": [
       "  0%|          | 0/50 [00:00<?, ?it/s]"
      ]
     },
     "metadata": {},
     "output_type": "display_data"
    },
    {
     "data": {
      "application/vnd.jupyter.widget-view+json": {
       "model_id": "38491e62f5854722b433a9fbfe7fca6f",
       "version_major": 2,
       "version_minor": 0
      },
      "text/plain": [
       "Loading pipeline components...:   0%|          | 0/7 [00:00<?, ?it/s]"
      ]
     },
     "metadata": {},
     "output_type": "display_data"
    },
    {
     "data": {
      "application/vnd.jupyter.widget-view+json": {
       "model_id": "c6897f349b624bb9a52182d95a450e47",
       "version_major": 2,
       "version_minor": 0
      },
      "text/plain": [
       "  0%|          | 0/50 [00:00<?, ?it/s]"
      ]
     },
     "metadata": {},
     "output_type": "display_data"
    },
    {
     "data": {
      "application/vnd.jupyter.widget-view+json": {
       "model_id": "6fcf3e2367a142d9a96e1bfbee4d4975",
       "version_major": 2,
       "version_minor": 0
      },
      "text/plain": [
       "  0%|          | 0/50 [00:00<?, ?it/s]"
      ]
     },
     "metadata": {},
     "output_type": "display_data"
    },
    {
     "data": {
      "application/vnd.jupyter.widget-view+json": {
       "model_id": "36ba5111ddbe407681dfaf4444998807",
       "version_major": 2,
       "version_minor": 0
      },
      "text/plain": [
       "  0%|          | 0/50 [00:00<?, ?it/s]"
      ]
     },
     "metadata": {},
     "output_type": "display_data"
    },
    {
     "data": {
      "application/vnd.jupyter.widget-view+json": {
       "model_id": "d3d959be74b749d592e490545f01dc7d",
       "version_major": 2,
       "version_minor": 0
      },
      "text/plain": [
       "  0%|          | 0/50 [00:00<?, ?it/s]"
      ]
     },
     "metadata": {},
     "output_type": "display_data"
    },
    {
     "data": {
      "application/vnd.jupyter.widget-view+json": {
       "model_id": "cc94eeb55a3448108ac04b2d90ab8b1c",
       "version_major": 2,
       "version_minor": 0
      },
      "text/plain": [
       "  0%|          | 0/50 [00:00<?, ?it/s]"
      ]
     },
     "metadata": {},
     "output_type": "display_data"
    }
   ],
   "source": [
    "task_outs_0 = run_model(0)"
   ]
  },
  {
   "cell_type": "code",
   "execution_count": 28,
   "metadata": {},
   "outputs": [
    {
     "data": {
      "application/vnd.jupyter.widget-view+json": {
       "model_id": "75ab90fb154e474cb058b656af2b63e0",
       "version_major": 2,
       "version_minor": 0
      },
      "text/plain": [
       "Loading pipeline components...:   0%|          | 0/7 [00:00<?, ?it/s]"
      ]
     },
     "metadata": {},
     "output_type": "display_data"
    },
    {
     "data": {
      "application/vnd.jupyter.widget-view+json": {
       "model_id": "a6f77d86cfb04811a27febf7611969e3",
       "version_major": 2,
       "version_minor": 0
      },
      "text/plain": [
       "  0%|          | 0/50 [00:00<?, ?it/s]"
      ]
     },
     "metadata": {},
     "output_type": "display_data"
    },
    {
     "data": {
      "application/vnd.jupyter.widget-view+json": {
       "model_id": "f5265918beba4d8c8079c8d3f184042d",
       "version_major": 2,
       "version_minor": 0
      },
      "text/plain": [
       "  0%|          | 0/50 [00:00<?, ?it/s]"
      ]
     },
     "metadata": {},
     "output_type": "display_data"
    },
    {
     "data": {
      "application/vnd.jupyter.widget-view+json": {
       "model_id": "ad33536f935442829bd8f482c905185c",
       "version_major": 2,
       "version_minor": 0
      },
      "text/plain": [
       "  0%|          | 0/50 [00:00<?, ?it/s]"
      ]
     },
     "metadata": {},
     "output_type": "display_data"
    },
    {
     "data": {
      "application/vnd.jupyter.widget-view+json": {
       "model_id": "00cc78a19dd4437cb383bc713ef03558",
       "version_major": 2,
       "version_minor": 0
      },
      "text/plain": [
       "  0%|          | 0/50 [00:00<?, ?it/s]"
      ]
     },
     "metadata": {},
     "output_type": "display_data"
    },
    {
     "data": {
      "application/vnd.jupyter.widget-view+json": {
       "model_id": "4007c049c2db4ecabd962c9896831c2d",
       "version_major": 2,
       "version_minor": 0
      },
      "text/plain": [
       "  0%|          | 0/50 [00:00<?, ?it/s]"
      ]
     },
     "metadata": {},
     "output_type": "display_data"
    }
   ],
   "source": [
    "task_outs_1 = run_model(1)"
   ]
  },
  {
   "cell_type": "code",
   "execution_count": 29,
   "metadata": {},
   "outputs": [
    {
     "data": {
      "application/vnd.jupyter.widget-view+json": {
       "model_id": "efa4db35e79e41e6a0526db8df9ac7d4",
       "version_major": 2,
       "version_minor": 0
      },
      "text/plain": [
       "Loading pipeline components...:   0%|          | 0/7 [00:00<?, ?it/s]"
      ]
     },
     "metadata": {},
     "output_type": "display_data"
    },
    {
     "data": {
      "application/vnd.jupyter.widget-view+json": {
       "model_id": "9d7fb44088b740d48b9d39e0540873cb",
       "version_major": 2,
       "version_minor": 0
      },
      "text/plain": [
       "  0%|          | 0/50 [00:00<?, ?it/s]"
      ]
     },
     "metadata": {},
     "output_type": "display_data"
    },
    {
     "data": {
      "application/vnd.jupyter.widget-view+json": {
       "model_id": "5fa9103bf5fd42d69b6cc5215cff7285",
       "version_major": 2,
       "version_minor": 0
      },
      "text/plain": [
       "  0%|          | 0/50 [00:00<?, ?it/s]"
      ]
     },
     "metadata": {},
     "output_type": "display_data"
    },
    {
     "data": {
      "application/vnd.jupyter.widget-view+json": {
       "model_id": "90e214a1eb6f4799ac4407b1441652fa",
       "version_major": 2,
       "version_minor": 0
      },
      "text/plain": [
       "  0%|          | 0/50 [00:00<?, ?it/s]"
      ]
     },
     "metadata": {},
     "output_type": "display_data"
    },
    {
     "data": {
      "application/vnd.jupyter.widget-view+json": {
       "model_id": "c2f7fcabc2fc4aaa9f28d13590f187c2",
       "version_major": 2,
       "version_minor": 0
      },
      "text/plain": [
       "  0%|          | 0/50 [00:00<?, ?it/s]"
      ]
     },
     "metadata": {},
     "output_type": "display_data"
    },
    {
     "data": {
      "application/vnd.jupyter.widget-view+json": {
       "model_id": "321451bebf01483d89bc57e6388f80eb",
       "version_major": 2,
       "version_minor": 0
      },
      "text/plain": [
       "  0%|          | 0/50 [00:00<?, ?it/s]"
      ]
     },
     "metadata": {},
     "output_type": "display_data"
    },
    {
     "data": {
      "application/vnd.jupyter.widget-view+json": {
       "model_id": "3bece77e96da4740855e9c8a6b1e5ecc",
       "version_major": 2,
       "version_minor": 0
      },
      "text/plain": [
       "Loading pipeline components...:   0%|          | 0/7 [00:00<?, ?it/s]"
      ]
     },
     "metadata": {},
     "output_type": "display_data"
    },
    {
     "data": {
      "application/vnd.jupyter.widget-view+json": {
       "model_id": "d7a57e9c779d4c819d2f59c067ef071e",
       "version_major": 2,
       "version_minor": 0
      },
      "text/plain": [
       "  0%|          | 0/50 [00:00<?, ?it/s]"
      ]
     },
     "metadata": {},
     "output_type": "display_data"
    },
    {
     "data": {
      "application/vnd.jupyter.widget-view+json": {
       "model_id": "9edc4c96707b442b9e089cf8d883e266",
       "version_major": 2,
       "version_minor": 0
      },
      "text/plain": [
       "  0%|          | 0/50 [00:00<?, ?it/s]"
      ]
     },
     "metadata": {},
     "output_type": "display_data"
    },
    {
     "data": {
      "application/vnd.jupyter.widget-view+json": {
       "model_id": "f04fcf41e9d44a1992f81104ff4c7956",
       "version_major": 2,
       "version_minor": 0
      },
      "text/plain": [
       "  0%|          | 0/50 [00:00<?, ?it/s]"
      ]
     },
     "metadata": {},
     "output_type": "display_data"
    },
    {
     "data": {
      "application/vnd.jupyter.widget-view+json": {
       "model_id": "3a588fc99e87459b8efc1c27ccb31637",
       "version_major": 2,
       "version_minor": 0
      },
      "text/plain": [
       "  0%|          | 0/50 [00:00<?, ?it/s]"
      ]
     },
     "metadata": {},
     "output_type": "display_data"
    },
    {
     "data": {
      "application/vnd.jupyter.widget-view+json": {
       "model_id": "8809e00ffe5149e5bea0b0665e1da4d6",
       "version_major": 2,
       "version_minor": 0
      },
      "text/plain": [
       "  0%|          | 0/50 [00:00<?, ?it/s]"
      ]
     },
     "metadata": {},
     "output_type": "display_data"
    }
   ],
   "source": [
    "task_outs_2 = run_model(2)"
   ]
  },
  {
   "cell_type": "code",
   "execution_count": 30,
   "metadata": {},
   "outputs": [
    {
     "data": {
      "application/vnd.jupyter.widget-view+json": {
       "model_id": "03cbe223fdee4c81b89cde60d4aefd99",
       "version_major": 2,
       "version_minor": 0
      },
      "text/plain": [
       "Loading pipeline components...:   0%|          | 0/7 [00:00<?, ?it/s]"
      ]
     },
     "metadata": {},
     "output_type": "display_data"
    },
    {
     "data": {
      "application/vnd.jupyter.widget-view+json": {
       "model_id": "58ea2c72a16a4d31a1d7b03157f01017",
       "version_major": 2,
       "version_minor": 0
      },
      "text/plain": [
       "  0%|          | 0/50 [00:00<?, ?it/s]"
      ]
     },
     "metadata": {},
     "output_type": "display_data"
    },
    {
     "data": {
      "application/vnd.jupyter.widget-view+json": {
       "model_id": "3362ec0858274261ac5d93edd5791051",
       "version_major": 2,
       "version_minor": 0
      },
      "text/plain": [
       "  0%|          | 0/50 [00:00<?, ?it/s]"
      ]
     },
     "metadata": {},
     "output_type": "display_data"
    },
    {
     "data": {
      "application/vnd.jupyter.widget-view+json": {
       "model_id": "b2c010c3d92e4122ac4a56d6bba894aa",
       "version_major": 2,
       "version_minor": 0
      },
      "text/plain": [
       "  0%|          | 0/50 [00:00<?, ?it/s]"
      ]
     },
     "metadata": {},
     "output_type": "display_data"
    },
    {
     "data": {
      "application/vnd.jupyter.widget-view+json": {
       "model_id": "a8c369ce8bed412aafed1c3c83d5894d",
       "version_major": 2,
       "version_minor": 0
      },
      "text/plain": [
       "  0%|          | 0/50 [00:00<?, ?it/s]"
      ]
     },
     "metadata": {},
     "output_type": "display_data"
    },
    {
     "data": {
      "application/vnd.jupyter.widget-view+json": {
       "model_id": "0764217c66954b01ac63e64fe5abb512",
       "version_major": 2,
       "version_minor": 0
      },
      "text/plain": [
       "  0%|          | 0/50 [00:00<?, ?it/s]"
      ]
     },
     "metadata": {},
     "output_type": "display_data"
    },
    {
     "data": {
      "application/vnd.jupyter.widget-view+json": {
       "model_id": "f5d11e4cc4e9422b945cb11a8879e101",
       "version_major": 2,
       "version_minor": 0
      },
      "text/plain": [
       "Loading pipeline components...:   0%|          | 0/7 [00:00<?, ?it/s]"
      ]
     },
     "metadata": {},
     "output_type": "display_data"
    },
    {
     "data": {
      "application/vnd.jupyter.widget-view+json": {
       "model_id": "7be3110e31f348048dac0361b3f5dfca",
       "version_major": 2,
       "version_minor": 0
      },
      "text/plain": [
       "  0%|          | 0/50 [00:00<?, ?it/s]"
      ]
     },
     "metadata": {},
     "output_type": "display_data"
    },
    {
     "data": {
      "application/vnd.jupyter.widget-view+json": {
       "model_id": "663f96dcf25943f0aed1db4835ee614f",
       "version_major": 2,
       "version_minor": 0
      },
      "text/plain": [
       "  0%|          | 0/50 [00:00<?, ?it/s]"
      ]
     },
     "metadata": {},
     "output_type": "display_data"
    },
    {
     "data": {
      "application/vnd.jupyter.widget-view+json": {
       "model_id": "8f67692b9e144160b8b9a16979a7fcbf",
       "version_major": 2,
       "version_minor": 0
      },
      "text/plain": [
       "  0%|          | 0/50 [00:00<?, ?it/s]"
      ]
     },
     "metadata": {},
     "output_type": "display_data"
    },
    {
     "data": {
      "application/vnd.jupyter.widget-view+json": {
       "model_id": "c793ca6c3f7549b290683549bb24f758",
       "version_major": 2,
       "version_minor": 0
      },
      "text/plain": [
       "  0%|          | 0/50 [00:00<?, ?it/s]"
      ]
     },
     "metadata": {},
     "output_type": "display_data"
    },
    {
     "data": {
      "application/vnd.jupyter.widget-view+json": {
       "model_id": "ffb48f30c08a419399dfbbb07fe9ebe3",
       "version_major": 2,
       "version_minor": 0
      },
      "text/plain": [
       "  0%|          | 0/50 [00:00<?, ?it/s]"
      ]
     },
     "metadata": {},
     "output_type": "display_data"
    },
    {
     "data": {
      "application/vnd.jupyter.widget-view+json": {
       "model_id": "47816d1f81324d0685badfc6be9995be",
       "version_major": 2,
       "version_minor": 0
      },
      "text/plain": [
       "Loading pipeline components...:   0%|          | 0/7 [00:00<?, ?it/s]"
      ]
     },
     "metadata": {},
     "output_type": "display_data"
    },
    {
     "data": {
      "application/vnd.jupyter.widget-view+json": {
       "model_id": "ffe0831f723048cfaa56481dfcd0f885",
       "version_major": 2,
       "version_minor": 0
      },
      "text/plain": [
       "  0%|          | 0/50 [00:00<?, ?it/s]"
      ]
     },
     "metadata": {},
     "output_type": "display_data"
    },
    {
     "data": {
      "application/vnd.jupyter.widget-view+json": {
       "model_id": "d6f3cb9a7f7a406fa0491b58ccfaf1ed",
       "version_major": 2,
       "version_minor": 0
      },
      "text/plain": [
       "  0%|          | 0/50 [00:00<?, ?it/s]"
      ]
     },
     "metadata": {},
     "output_type": "display_data"
    },
    {
     "data": {
      "application/vnd.jupyter.widget-view+json": {
       "model_id": "3a788973607f4e26a036a4c251e16437",
       "version_major": 2,
       "version_minor": 0
      },
      "text/plain": [
       "  0%|          | 0/50 [00:00<?, ?it/s]"
      ]
     },
     "metadata": {},
     "output_type": "display_data"
    },
    {
     "data": {
      "application/vnd.jupyter.widget-view+json": {
       "model_id": "1ec121ce632841c6a07a136cfe540bce",
       "version_major": 2,
       "version_minor": 0
      },
      "text/plain": [
       "  0%|          | 0/50 [00:00<?, ?it/s]"
      ]
     },
     "metadata": {},
     "output_type": "display_data"
    },
    {
     "data": {
      "application/vnd.jupyter.widget-view+json": {
       "model_id": "2a1503ed2cbf4831bec1eeb52a794c89",
       "version_major": 2,
       "version_minor": 0
      },
      "text/plain": [
       "  0%|          | 0/50 [00:00<?, ?it/s]"
      ]
     },
     "metadata": {},
     "output_type": "display_data"
    }
   ],
   "source": [
    "task_outs_3 = run_model(3)"
   ]
  },
  {
   "cell_type": "code",
   "execution_count": 31,
   "metadata": {},
   "outputs": [
    {
     "data": {
      "application/vnd.jupyter.widget-view+json": {
       "model_id": "aea2d3fa3e53461ebb9cf8c91c4c7d20",
       "version_major": 2,
       "version_minor": 0
      },
      "text/plain": [
       "Loading pipeline components...:   0%|          | 0/7 [00:00<?, ?it/s]"
      ]
     },
     "metadata": {},
     "output_type": "display_data"
    },
    {
     "data": {
      "application/vnd.jupyter.widget-view+json": {
       "model_id": "2eecf955e2b349c5bca49c4f5156db2c",
       "version_major": 2,
       "version_minor": 0
      },
      "text/plain": [
       "  0%|          | 0/50 [00:00<?, ?it/s]"
      ]
     },
     "metadata": {},
     "output_type": "display_data"
    },
    {
     "data": {
      "application/vnd.jupyter.widget-view+json": {
       "model_id": "5a2754b3d7c64e9c94e3af3f55e9cc38",
       "version_major": 2,
       "version_minor": 0
      },
      "text/plain": [
       "  0%|          | 0/50 [00:00<?, ?it/s]"
      ]
     },
     "metadata": {},
     "output_type": "display_data"
    },
    {
     "data": {
      "application/vnd.jupyter.widget-view+json": {
       "model_id": "54fa5536e8044a9aac0a63c09e46386b",
       "version_major": 2,
       "version_minor": 0
      },
      "text/plain": [
       "  0%|          | 0/50 [00:00<?, ?it/s]"
      ]
     },
     "metadata": {},
     "output_type": "display_data"
    },
    {
     "data": {
      "application/vnd.jupyter.widget-view+json": {
       "model_id": "1913e5df31b34b4d8bf163505ca4dae2",
       "version_major": 2,
       "version_minor": 0
      },
      "text/plain": [
       "  0%|          | 0/50 [00:00<?, ?it/s]"
      ]
     },
     "metadata": {},
     "output_type": "display_data"
    },
    {
     "data": {
      "application/vnd.jupyter.widget-view+json": {
       "model_id": "b765c923d8464e8e813986653638a40b",
       "version_major": 2,
       "version_minor": 0
      },
      "text/plain": [
       "  0%|          | 0/50 [00:00<?, ?it/s]"
      ]
     },
     "metadata": {},
     "output_type": "display_data"
    },
    {
     "data": {
      "application/vnd.jupyter.widget-view+json": {
       "model_id": "85a5bd457fd04ae89aecd03fe3a2d8c2",
       "version_major": 2,
       "version_minor": 0
      },
      "text/plain": [
       "Loading pipeline components...:   0%|          | 0/7 [00:00<?, ?it/s]"
      ]
     },
     "metadata": {},
     "output_type": "display_data"
    },
    {
     "data": {
      "application/vnd.jupyter.widget-view+json": {
       "model_id": "de6616cf220741a7ab84378685ffcae0",
       "version_major": 2,
       "version_minor": 0
      },
      "text/plain": [
       "  0%|          | 0/50 [00:00<?, ?it/s]"
      ]
     },
     "metadata": {},
     "output_type": "display_data"
    },
    {
     "data": {
      "application/vnd.jupyter.widget-view+json": {
       "model_id": "2e75c309e93f4435a8822e7cfdcc975f",
       "version_major": 2,
       "version_minor": 0
      },
      "text/plain": [
       "  0%|          | 0/50 [00:00<?, ?it/s]"
      ]
     },
     "metadata": {},
     "output_type": "display_data"
    },
    {
     "data": {
      "application/vnd.jupyter.widget-view+json": {
       "model_id": "21a7ab4d3c4a4971bcf5a36a01eccbee",
       "version_major": 2,
       "version_minor": 0
      },
      "text/plain": [
       "  0%|          | 0/50 [00:00<?, ?it/s]"
      ]
     },
     "metadata": {},
     "output_type": "display_data"
    },
    {
     "data": {
      "application/vnd.jupyter.widget-view+json": {
       "model_id": "a76c87e6c6194fdbac66082bef655fdc",
       "version_major": 2,
       "version_minor": 0
      },
      "text/plain": [
       "  0%|          | 0/50 [00:00<?, ?it/s]"
      ]
     },
     "metadata": {},
     "output_type": "display_data"
    },
    {
     "data": {
      "application/vnd.jupyter.widget-view+json": {
       "model_id": "a76a703261774ded81837e240f7f97a2",
       "version_major": 2,
       "version_minor": 0
      },
      "text/plain": [
       "  0%|          | 0/50 [00:00<?, ?it/s]"
      ]
     },
     "metadata": {},
     "output_type": "display_data"
    },
    {
     "data": {
      "application/vnd.jupyter.widget-view+json": {
       "model_id": "32dd85f5a704494b9032380af1892b0b",
       "version_major": 2,
       "version_minor": 0
      },
      "text/plain": [
       "Loading pipeline components...:   0%|          | 0/7 [00:00<?, ?it/s]"
      ]
     },
     "metadata": {},
     "output_type": "display_data"
    },
    {
     "data": {
      "application/vnd.jupyter.widget-view+json": {
       "model_id": "662c06a5809c4c3fbb69de8bf668038c",
       "version_major": 2,
       "version_minor": 0
      },
      "text/plain": [
       "  0%|          | 0/50 [00:00<?, ?it/s]"
      ]
     },
     "metadata": {},
     "output_type": "display_data"
    },
    {
     "data": {
      "application/vnd.jupyter.widget-view+json": {
       "model_id": "476260a2f99b4f859e14251807930791",
       "version_major": 2,
       "version_minor": 0
      },
      "text/plain": [
       "  0%|          | 0/50 [00:00<?, ?it/s]"
      ]
     },
     "metadata": {},
     "output_type": "display_data"
    },
    {
     "data": {
      "application/vnd.jupyter.widget-view+json": {
       "model_id": "26161e48e9884772993e3da9bd0e237d",
       "version_major": 2,
       "version_minor": 0
      },
      "text/plain": [
       "  0%|          | 0/50 [00:00<?, ?it/s]"
      ]
     },
     "metadata": {},
     "output_type": "display_data"
    },
    {
     "data": {
      "application/vnd.jupyter.widget-view+json": {
       "model_id": "1cdd227c5c7f42dba438e2a7ae1b1daf",
       "version_major": 2,
       "version_minor": 0
      },
      "text/plain": [
       "  0%|          | 0/50 [00:00<?, ?it/s]"
      ]
     },
     "metadata": {},
     "output_type": "display_data"
    },
    {
     "data": {
      "application/vnd.jupyter.widget-view+json": {
       "model_id": "c0d213ed3e5d47deafd14a71fbb045f2",
       "version_major": 2,
       "version_minor": 0
      },
      "text/plain": [
       "  0%|          | 0/50 [00:00<?, ?it/s]"
      ]
     },
     "metadata": {},
     "output_type": "display_data"
    },
    {
     "data": {
      "application/vnd.jupyter.widget-view+json": {
       "model_id": "3253bc9fe91d4bcf82772fbbdf871977",
       "version_major": 2,
       "version_minor": 0
      },
      "text/plain": [
       "Loading pipeline components...:   0%|          | 0/7 [00:00<?, ?it/s]"
      ]
     },
     "metadata": {},
     "output_type": "display_data"
    },
    {
     "data": {
      "application/vnd.jupyter.widget-view+json": {
       "model_id": "b788eccb6bfb43b285274f5c7c5e98e1",
       "version_major": 2,
       "version_minor": 0
      },
      "text/plain": [
       "  0%|          | 0/50 [00:00<?, ?it/s]"
      ]
     },
     "metadata": {},
     "output_type": "display_data"
    },
    {
     "data": {
      "application/vnd.jupyter.widget-view+json": {
       "model_id": "5d59d0b141d643f88633495374db24ee",
       "version_major": 2,
       "version_minor": 0
      },
      "text/plain": [
       "  0%|          | 0/50 [00:00<?, ?it/s]"
      ]
     },
     "metadata": {},
     "output_type": "display_data"
    },
    {
     "data": {
      "application/vnd.jupyter.widget-view+json": {
       "model_id": "91088f8f5d1744c9b7046d6fdf4539a1",
       "version_major": 2,
       "version_minor": 0
      },
      "text/plain": [
       "  0%|          | 0/50 [00:00<?, ?it/s]"
      ]
     },
     "metadata": {},
     "output_type": "display_data"
    },
    {
     "data": {
      "application/vnd.jupyter.widget-view+json": {
       "model_id": "b3c88967293b4a0a9e542ad0e0c7f7f0",
       "version_major": 2,
       "version_minor": 0
      },
      "text/plain": [
       "  0%|          | 0/50 [00:00<?, ?it/s]"
      ]
     },
     "metadata": {},
     "output_type": "display_data"
    },
    {
     "data": {
      "application/vnd.jupyter.widget-view+json": {
       "model_id": "a2b88eda414647d9b3c7d0ad718aebf9",
       "version_major": 2,
       "version_minor": 0
      },
      "text/plain": [
       "  0%|          | 0/50 [00:00<?, ?it/s]"
      ]
     },
     "metadata": {},
     "output_type": "display_data"
    }
   ],
   "source": [
    "task_outs_4 = run_model(4)"
   ]
  },
  {
   "cell_type": "code",
   "execution_count": 32,
   "metadata": {},
   "outputs": [
    {
     "data": {
      "application/vnd.jupyter.widget-view+json": {
       "model_id": "141bce04fc3949239f87140e7cdb0acc",
       "version_major": 2,
       "version_minor": 0
      },
      "text/plain": [
       "Loading pipeline components...:   0%|          | 0/7 [00:00<?, ?it/s]"
      ]
     },
     "metadata": {},
     "output_type": "display_data"
    },
    {
     "data": {
      "application/vnd.jupyter.widget-view+json": {
       "model_id": "07326e1e36264ac1a699068a288974f3",
       "version_major": 2,
       "version_minor": 0
      },
      "text/plain": [
       "  0%|          | 0/50 [00:00<?, ?it/s]"
      ]
     },
     "metadata": {},
     "output_type": "display_data"
    },
    {
     "data": {
      "application/vnd.jupyter.widget-view+json": {
       "model_id": "10c261af5750485dbf82260909cf56ed",
       "version_major": 2,
       "version_minor": 0
      },
      "text/plain": [
       "  0%|          | 0/50 [00:00<?, ?it/s]"
      ]
     },
     "metadata": {},
     "output_type": "display_data"
    },
    {
     "data": {
      "application/vnd.jupyter.widget-view+json": {
       "model_id": "2bf2d7d78c0a4a23933c94c651bd2733",
       "version_major": 2,
       "version_minor": 0
      },
      "text/plain": [
       "  0%|          | 0/50 [00:00<?, ?it/s]"
      ]
     },
     "metadata": {},
     "output_type": "display_data"
    },
    {
     "data": {
      "application/vnd.jupyter.widget-view+json": {
       "model_id": "aaba66892ae04b1796ab43f11eff6511",
       "version_major": 2,
       "version_minor": 0
      },
      "text/plain": [
       "  0%|          | 0/50 [00:00<?, ?it/s]"
      ]
     },
     "metadata": {},
     "output_type": "display_data"
    },
    {
     "data": {
      "application/vnd.jupyter.widget-view+json": {
       "model_id": "523635c2f5504506a248970e0abe4003",
       "version_major": 2,
       "version_minor": 0
      },
      "text/plain": [
       "  0%|          | 0/50 [00:00<?, ?it/s]"
      ]
     },
     "metadata": {},
     "output_type": "display_data"
    },
    {
     "data": {
      "application/vnd.jupyter.widget-view+json": {
       "model_id": "a3a847c19630408cbbac341e9497d8f3",
       "version_major": 2,
       "version_minor": 0
      },
      "text/plain": [
       "Loading pipeline components...:   0%|          | 0/7 [00:00<?, ?it/s]"
      ]
     },
     "metadata": {},
     "output_type": "display_data"
    },
    {
     "data": {
      "application/vnd.jupyter.widget-view+json": {
       "model_id": "140f967946ff4220ae299c7de8100e03",
       "version_major": 2,
       "version_minor": 0
      },
      "text/plain": [
       "  0%|          | 0/50 [00:00<?, ?it/s]"
      ]
     },
     "metadata": {},
     "output_type": "display_data"
    },
    {
     "data": {
      "application/vnd.jupyter.widget-view+json": {
       "model_id": "5aee51720b8c460e87ccb5dda49e24e6",
       "version_major": 2,
       "version_minor": 0
      },
      "text/plain": [
       "  0%|          | 0/50 [00:00<?, ?it/s]"
      ]
     },
     "metadata": {},
     "output_type": "display_data"
    },
    {
     "data": {
      "application/vnd.jupyter.widget-view+json": {
       "model_id": "8f114d7958c64210a193fa9ebea8a710",
       "version_major": 2,
       "version_minor": 0
      },
      "text/plain": [
       "  0%|          | 0/50 [00:00<?, ?it/s]"
      ]
     },
     "metadata": {},
     "output_type": "display_data"
    },
    {
     "data": {
      "application/vnd.jupyter.widget-view+json": {
       "model_id": "c0932ecb4afe41e3aa67b1f61c3e8964",
       "version_major": 2,
       "version_minor": 0
      },
      "text/plain": [
       "  0%|          | 0/50 [00:00<?, ?it/s]"
      ]
     },
     "metadata": {},
     "output_type": "display_data"
    },
    {
     "data": {
      "application/vnd.jupyter.widget-view+json": {
       "model_id": "b70151d6ec10476fae6ca7dfe157eb0a",
       "version_major": 2,
       "version_minor": 0
      },
      "text/plain": [
       "  0%|          | 0/50 [00:00<?, ?it/s]"
      ]
     },
     "metadata": {},
     "output_type": "display_data"
    },
    {
     "data": {
      "application/vnd.jupyter.widget-view+json": {
       "model_id": "9b9dad5590ec4203964d5ce037b45da8",
       "version_major": 2,
       "version_minor": 0
      },
      "text/plain": [
       "Loading pipeline components...:   0%|          | 0/7 [00:00<?, ?it/s]"
      ]
     },
     "metadata": {},
     "output_type": "display_data"
    },
    {
     "data": {
      "application/vnd.jupyter.widget-view+json": {
       "model_id": "09a42a728de84f4b856a48461295bb91",
       "version_major": 2,
       "version_minor": 0
      },
      "text/plain": [
       "  0%|          | 0/50 [00:00<?, ?it/s]"
      ]
     },
     "metadata": {},
     "output_type": "display_data"
    },
    {
     "data": {
      "application/vnd.jupyter.widget-view+json": {
       "model_id": "5a9a4b80d14f43fe949d900742a50faa",
       "version_major": 2,
       "version_minor": 0
      },
      "text/plain": [
       "  0%|          | 0/50 [00:00<?, ?it/s]"
      ]
     },
     "metadata": {},
     "output_type": "display_data"
    },
    {
     "data": {
      "application/vnd.jupyter.widget-view+json": {
       "model_id": "70c6aa77872b4439a00af663223dca06",
       "version_major": 2,
       "version_minor": 0
      },
      "text/plain": [
       "  0%|          | 0/50 [00:00<?, ?it/s]"
      ]
     },
     "metadata": {},
     "output_type": "display_data"
    },
    {
     "data": {
      "application/vnd.jupyter.widget-view+json": {
       "model_id": "fabaf6e315f646fe9473f44ce40b3b74",
       "version_major": 2,
       "version_minor": 0
      },
      "text/plain": [
       "  0%|          | 0/50 [00:00<?, ?it/s]"
      ]
     },
     "metadata": {},
     "output_type": "display_data"
    },
    {
     "data": {
      "application/vnd.jupyter.widget-view+json": {
       "model_id": "8a1eca5f5174456a87e18f101ead5894",
       "version_major": 2,
       "version_minor": 0
      },
      "text/plain": [
       "  0%|          | 0/50 [00:00<?, ?it/s]"
      ]
     },
     "metadata": {},
     "output_type": "display_data"
    },
    {
     "data": {
      "application/vnd.jupyter.widget-view+json": {
       "model_id": "d2128690dd154e26a16e2bab0809322b",
       "version_major": 2,
       "version_minor": 0
      },
      "text/plain": [
       "Loading pipeline components...:   0%|          | 0/7 [00:00<?, ?it/s]"
      ]
     },
     "metadata": {},
     "output_type": "display_data"
    },
    {
     "data": {
      "application/vnd.jupyter.widget-view+json": {
       "model_id": "c184d8f1a6af49d08e49b8591139af2f",
       "version_major": 2,
       "version_minor": 0
      },
      "text/plain": [
       "  0%|          | 0/50 [00:00<?, ?it/s]"
      ]
     },
     "metadata": {},
     "output_type": "display_data"
    },
    {
     "data": {
      "application/vnd.jupyter.widget-view+json": {
       "model_id": "f821d72f05c14eb2a973467df86c1e62",
       "version_major": 2,
       "version_minor": 0
      },
      "text/plain": [
       "  0%|          | 0/50 [00:00<?, ?it/s]"
      ]
     },
     "metadata": {},
     "output_type": "display_data"
    },
    {
     "data": {
      "application/vnd.jupyter.widget-view+json": {
       "model_id": "b4cbd0a9474b4d0ea262a50855d9ffba",
       "version_major": 2,
       "version_minor": 0
      },
      "text/plain": [
       "  0%|          | 0/50 [00:00<?, ?it/s]"
      ]
     },
     "metadata": {},
     "output_type": "display_data"
    },
    {
     "data": {
      "application/vnd.jupyter.widget-view+json": {
       "model_id": "0c8163dcf1814512bfeaf47658291cc6",
       "version_major": 2,
       "version_minor": 0
      },
      "text/plain": [
       "  0%|          | 0/50 [00:00<?, ?it/s]"
      ]
     },
     "metadata": {},
     "output_type": "display_data"
    },
    {
     "data": {
      "application/vnd.jupyter.widget-view+json": {
       "model_id": "749f16e624e14846a1374aab7cc60bfd",
       "version_major": 2,
       "version_minor": 0
      },
      "text/plain": [
       "  0%|          | 0/50 [00:00<?, ?it/s]"
      ]
     },
     "metadata": {},
     "output_type": "display_data"
    },
    {
     "data": {
      "application/vnd.jupyter.widget-view+json": {
       "model_id": "cc6384f28ad849e6bf4f63260279d118",
       "version_major": 2,
       "version_minor": 0
      },
      "text/plain": [
       "Loading pipeline components...:   0%|          | 0/7 [00:00<?, ?it/s]"
      ]
     },
     "metadata": {},
     "output_type": "display_data"
    },
    {
     "data": {
      "application/vnd.jupyter.widget-view+json": {
       "model_id": "6d73ff0a60184f91a9cdfe63acc16ba6",
       "version_major": 2,
       "version_minor": 0
      },
      "text/plain": [
       "  0%|          | 0/50 [00:00<?, ?it/s]"
      ]
     },
     "metadata": {},
     "output_type": "display_data"
    },
    {
     "data": {
      "application/vnd.jupyter.widget-view+json": {
       "model_id": "7937d7bc53d84b2d8fe405430eacfb07",
       "version_major": 2,
       "version_minor": 0
      },
      "text/plain": [
       "  0%|          | 0/50 [00:00<?, ?it/s]"
      ]
     },
     "metadata": {},
     "output_type": "display_data"
    },
    {
     "data": {
      "application/vnd.jupyter.widget-view+json": {
       "model_id": "536d7b8d0f354f07b4d900c42eba769c",
       "version_major": 2,
       "version_minor": 0
      },
      "text/plain": [
       "  0%|          | 0/50 [00:00<?, ?it/s]"
      ]
     },
     "metadata": {},
     "output_type": "display_data"
    },
    {
     "data": {
      "application/vnd.jupyter.widget-view+json": {
       "model_id": "3844786f2d7144838346ab4bccc77a7f",
       "version_major": 2,
       "version_minor": 0
      },
      "text/plain": [
       "  0%|          | 0/50 [00:00<?, ?it/s]"
      ]
     },
     "metadata": {},
     "output_type": "display_data"
    },
    {
     "data": {
      "application/vnd.jupyter.widget-view+json": {
       "model_id": "b47be676c5cf42d0840b60a7c2263c10",
       "version_major": 2,
       "version_minor": 0
      },
      "text/plain": [
       "  0%|          | 0/50 [00:00<?, ?it/s]"
      ]
     },
     "metadata": {},
     "output_type": "display_data"
    }
   ],
   "source": [
    "task_outs_5 = run_model(5)"
   ]
  },
  {
   "cell_type": "code",
   "execution_count": 41,
   "metadata": {},
   "outputs": [],
   "source": [
    "import pickle\n",
    "\n",
    "with open(\"results_rank256.pkl\", \"wb\") as f:\n",
    "    pickle.dump([task_outs_0,task_outs_1,task_outs_2,task_outs_3,task_outs_4,task_outs_5],f)"
   ]
  },
  {
   "cell_type": "code",
   "execution_count": null,
   "metadata": {},
   "outputs": [],
   "source": [
    "grid = image_grid(imgs, rows=8, cols=5)\n"
   ]
  },
  {
   "cell_type": "markdown",
   "metadata": {},
   "source": [
    "# Metrics"
   ]
  },
  {
   "cell_type": "code",
   "execution_count": 33,
   "metadata": {},
   "outputs": [],
   "source": [
    "DATASETS = [\"watercolor_painting_style\", \"oil_painting_style\", \"colored_smoke_style\", \"wooden_sculpture_style\", \"cartoon_line_drawing_style\"]"
   ]
  },
  {
   "cell_type": "code",
   "execution_count": 34,
   "metadata": {},
   "outputs": [],
   "source": [
    "from lora.metrics import clip_image_metric, dino_metric"
   ]
  },
  {
   "cell_type": "code",
   "execution_count": 35,
   "metadata": {},
   "outputs": [
    {
     "name": "stderr",
     "output_type": "stream",
     "text": [
      "/net/tscratch/people/plglukaszst/envs/lora/lib/python3.11/site-packages/huggingface_hub/file_download.py:1132: FutureWarning: `resume_download` is deprecated and will be removed in version 1.0.0. Downloads always resume when possible. If you want to force a new download, use `force_download=True`.\n",
      "  warnings.warn(\n"
     ]
    },
    {
     "name": "stdout",
     "output_type": "stream",
     "text": [
      "Task number: 0, CLIP: 0.5936103463172913, DINO: 0.2218233197927475\n",
      "Task number: 1, CLIP: 0.5600571632385254, DINO: 0.07089140266180038\n",
      "Task number: 2, CLIP: 0.6261627078056335, DINO: 0.18653252720832825\n",
      "Task number: 3, CLIP: 0.6517712473869324, DINO: 0.2567393481731415\n",
      "Task number: 4, CLIP: 0.4985247552394867, DINO: 0.42831817269325256\n"
     ]
    }
   ],
   "source": [
    "for task in range(5):\n",
    "    model_samples = task_outs_0[task+1]['samples']\n",
    "    gt_path = os.path.join(\"data/styledrop/\", DATASETS[task])\n",
    "    print(f\"Task number: {task}, CLIP: {clip_image_metric(model_samples, gt_path)}, DINO: {dino_metric(model_samples, gt_path)}\")"
   ]
  },
  {
   "cell_type": "code",
   "execution_count": 36,
   "metadata": {},
   "outputs": [
    {
     "name": "stdout",
     "output_type": "stream",
     "text": [
      "Task number: 0, CLIP: 0.6314317584037781, DINO: 0.4041808545589447\n"
     ]
    }
   ],
   "source": [
    "for task in range(1):\n",
    "    model_samples = task_outs_1[task+1]['samples']\n",
    "    gt_path = os.path.join(\"data/styledrop/\", DATASETS[task])\n",
    "    print(f\"Task number: {task}, CLIP: {clip_image_metric(model_samples, gt_path)}, DINO: {dino_metric(model_samples, gt_path)}\")"
   ]
  },
  {
   "cell_type": "code",
   "execution_count": 37,
   "metadata": {},
   "outputs": [
    {
     "name": "stdout",
     "output_type": "stream",
     "text": [
      "Task number: 0, CLIP: 0.6097226142883301, DINO: 0.28482845425605774\n",
      "Task number: 1, CLIP: 0.6070818305015564, DINO: 0.2720974087715149\n"
     ]
    }
   ],
   "source": [
    "for task in range(2):\n",
    "    model_samples = task_outs_2[task+1]['samples']\n",
    "    gt_path = os.path.join(\"data/styledrop/\", DATASETS[task])\n",
    "    print(f\"Task number: {task}, CLIP: {clip_image_metric(model_samples, gt_path)}, DINO: {dino_metric(model_samples, gt_path)}\")"
   ]
  },
  {
   "cell_type": "code",
   "execution_count": 38,
   "metadata": {
    "scrolled": true
   },
   "outputs": [
    {
     "name": "stdout",
     "output_type": "stream",
     "text": [
      "Task number: 0, CLIP: 0.6411687135696411, DINO: 0.29327940940856934\n",
      "Task number: 1, CLIP: 0.5970920920372009, DINO: 0.16400940716266632\n",
      "Task number: 2, CLIP: 0.7478613257408142, DINO: 0.39082106947898865\n"
     ]
    }
   ],
   "source": [
    "for task in range(3):\n",
    "    model_samples = task_outs_3[task+1]['samples']\n",
    "    gt_path = os.path.join(\"data/styledrop/\", DATASETS[task])\n",
    "    print(f\"Task number: {task}, CLIP: {clip_image_metric(model_samples, gt_path)}, DINO: {dino_metric(model_samples, gt_path)}\")"
   ]
  },
  {
   "cell_type": "code",
   "execution_count": 39,
   "metadata": {},
   "outputs": [
    {
     "name": "stdout",
     "output_type": "stream",
     "text": [
      "Task number: 0, CLIP: 0.6149083375930786, DINO: 0.24281631410121918\n",
      "Task number: 1, CLIP: 0.5654003024101257, DINO: 0.14737513661384583\n",
      "Task number: 2, CLIP: 0.6246252059936523, DINO: 0.04183489456772804\n",
      "Task number: 3, CLIP: 0.7621899843215942, DINO: 0.5071339011192322\n"
     ]
    }
   ],
   "source": [
    "for task in range(4):\n",
    "    model_samples = task_outs_4[task+1]['samples']\n",
    "    gt_path = os.path.join(\"data/styledrop/\", DATASETS[task])\n",
    "    print(f\"Task number: {task}, CLIP: {clip_image_metric(model_samples, gt_path)}, DINO: {dino_metric(model_samples, gt_path)}\")"
   ]
  },
  {
   "cell_type": "code",
   "execution_count": 40,
   "metadata": {},
   "outputs": [
    {
     "name": "stdout",
     "output_type": "stream",
     "text": [
      "Task number: 0, CLIP: 0.5909754633903503, DINO: 0.20504982769489288\n",
      "Task number: 1, CLIP: 0.5474587678909302, DINO: 0.07990869134664536\n",
      "Task number: 2, CLIP: 0.6293401122093201, DINO: 0.25962793827056885\n",
      "Task number: 3, CLIP: 0.6726295351982117, DINO: 0.32778987288475037\n",
      "Task number: 4, CLIP: 0.5590265393257141, DINO: 0.6091178059577942\n"
     ]
    }
   ],
   "source": [
    "for task in range(5):\n",
    "    model_samples = task_outs_5[task+1]['samples']\n",
    "    gt_path = os.path.join(\"data/styledrop/\", DATASETS[task])\n",
    "    print(f\"Task number: {task}, CLIP: {clip_image_metric(model_samples, gt_path)}, DINO: {dino_metric(model_samples, gt_path)}\")"
   ]
  },
  {
   "cell_type": "code",
   "execution_count": 24,
   "metadata": {},
   "outputs": [
    {
     "data": {
      "image/png": "[encoded data removed]",
      "text/plain": [
       "<Figure size 800x400 with 2 Axes>"
      ]
     },
     "metadata": {},
     "output_type": "display_data"
    },
    {
     "data": {
      "image/png": "[encoded data removed]",
      "text/plain": [
       "<Figure size 800x400 with 2 Axes>"
      ]
     },
     "metadata": {},
     "output_type": "display_data"
    }
   ],
   "source": [
    "import numpy as np\n",
    "import pandas as pd\n",
    "import seaborn as sns\n",
    "from matplotlib import pyplot as plt\n",
    "\n",
    "# Creating a matrix for the incremental model performance for heatmap\n",
    "clip_matrix_updated = np.array([\n",
    "    [0.5915667414665222, 0.557922899723053, 0.631373405456543, 0.649736762046814, 0.5014150142669678],\n",
    "    [0.624005913734436, np.nan, np.nan, np.nan, np.nan],\n",
    "    [0.6173079609870911, 0.6026208996772766, np.nan, np.nan, np.nan],\n",
    "    [0.601495087146759, 0.5707738995552063, 0.6571434140205383, np.nan, np.nan],\n",
    "    [0.6376327276229858, 0.5846818089485168, 0.6577308773994446, 0.6624749302864075, np.nan],\n",
    "    [0.6157271862030029, 0.572004497051239, 0.6165396571159363, 0.6297092437744141, 0.5546650290489197]\n",
    "]).T\n",
    "\n",
    "dino_matrix_updated = np.array([\n",
    "    [0.22539949417114258, 0.07449301332235336, 0.18638978898525238, 0.2520217299461365, 0.4309535622596741],\n",
    "    [0.35372039675712585, np.nan, np.nan, np.nan, np.nan],\n",
    "    [0.3050145208835602, 0.27117177844047546, np.nan, np.nan, np.nan],\n",
    "    [0.23603737354278564, 0.06551206856966019, 0.1518050730228424, np.nan, np.nan],\n",
    "    [0.27489903569221497, 0.12522797286510468, 0.0896523967385292, 0.3381164073944092, np.nan],\n",
    "    [0.19007249176502228, 0.10566291958093643, 0.17658631503582, 0.19980619847774506, 0.5731788873672485]\n",
    "]).T\n",
    "\n",
    "tasks = ['No task','Task 1', 'Task 2', 'Task 3', 'Task 4', 'Task 5']\n",
    "colormap = 'YlOrRd'\n",
    "\n",
    "# Plotting the heatmap for CLIP metric\n",
    "plt.figure(figsize=(8, 4))\n",
    "sns.heatmap(clip_matrix_updated, annot=True, fmt=\".3f\", cmap=colormap, xticklabels=tasks, yticklabels=tasks[1:], linewidths=.9, linecolor='black')\n",
    "plt.title('CLIP-I Alignment Score on next tasks')\n",
    "plt.xlabel('Model after')\n",
    "plt.ylabel('Task Number')\n",
    "plt.savefig(\"fig1styler256.svg\")\n",
    "plt.show()\n",
    "\n",
    "# Plotting the heatmap for DINO metric\n",
    "plt.figure(figsize=(8, 4))\n",
    "sns.heatmap(dino_matrix_updated, annot=True, fmt=\".3f\", cmap=colormap, xticklabels=tasks, yticklabels=tasks[1:], linewidths=.9, linecolor='black')\n",
    "plt.title('DINO Alignment Score on next tasks')\n",
    "plt.xlabel('Model after')\n",
    "plt.ylabel('Task Number')\n",
    "plt.savefig(\"fig2styler256.svg\")\n",
    "plt.show()"
   ]
  },
  {
   "cell_type": "code",
   "execution_count": 177,
   "metadata": {},
   "outputs": [
    {
     "data": {
      "image/png": "[encoded data removed]",
      "text/plain": [
       "<Figure size 1000x400 with 1 Axes>"
      ]
     },
     "metadata": {},
     "output_type": "display_data"
    }
   ],
   "source": [
    "import matplotlib.pyplot as plt\n",
    "import numpy as np\n",
    "\n",
    "# Set up the plot style and colors\n",
    "plt.style.use('ggplot')\n",
    "plt.rcParams.update({\n",
    "    'axes.facecolor': '#f0f0f0',  # Light gray background for the plot area\n",
    "    'figure.facecolor': '#ffffff',  # Light gray background for the figure\n",
    "    'grid.color': 'white',\n",
    "    'axes.edgecolor': 'gray',\n",
    "    'axes.linewidth': 1.0,\n",
    "    'axes.labelcolor': 'gray',\n",
    "    'xtick.color': 'gray',\n",
    "    'ytick.color': 'gray',\n",
    "    'font.size': 12,\n",
    "    'legend.fontsize': 10,\n",
    "    'legend.title_fontsize': 10,\n",
    "    'figure.figsize': (14, 7)\n",
    "})\n",
    "\n",
    "plt.figure(figsize=(10, 4))\n",
    "\n",
    "# Transpose the matrix for easier plotting\n",
    "clip_matrix_updated_transposed = clip_matrix_updated.T\n",
    "\n",
    "# Define a list of colors for each task finished\n",
    "colors = plt.cm.viridis(np.linspace(0, 1, clip_matrix_updated_transposed.shape[1] + 1))\n",
    "markers = ['o', 's', '^', 'D', 'P', 'X', 'H']\n",
    "\n",
    "for task_finished in range(clip_matrix_updated_transposed.shape[1] + 1):\n",
    "    if task_finished == 0:\n",
    "        y = clip_matrix_updated_transposed[0, :]\n",
    "        x = np.arange(y.shape[0]) + 1\n",
    "        plt.plot(x, y, marker=markers[task_finished], color=colors[task_finished], \n",
    "                 linestyle='--', linewidth=2, markersize=7, label='Base')\n",
    "    elif task_finished == 1:\n",
    "        y = clip_matrix_updated_transposed[task_finished, 0]\n",
    "        x = [1]\n",
    "        plt.plot(x, y, marker=markers[task_finished], color=colors[task_finished], \n",
    "                 linestyle='', markersize=7, label=f'After task {task_finished}')\n",
    "    else:\n",
    "        y = clip_matrix_updated_transposed[task_finished, :]\n",
    "        x = np.arange(y.shape[0]) + 1\n",
    "        plt.plot(x, y, marker=markers[task_finished], color=colors[task_finished], \n",
    "                 linestyle='-', linewidth=2, markersize=7, label=f'After task {task_finished}')\n",
    "\n",
    "# Add title and labels\n",
    "plt.title('CLIP-I Alignment on each task\\nduring each phase of task-incremental training', fontsize=13)\n",
    "plt.xlabel('Task Number', fontsize=14, color='gray')\n",
    "plt.ylabel('CLIP-I Score', fontsize=14, color='gray')\n",
    "plt.xticks(ticks=np.arange(1, len(tasks)), labels=tasks[1:], fontsize=12, color='gray')\n",
    "plt.yticks(fontsize=12, color='gray')\n",
    "\n",
    "# Add legend and grid\n",
    "plt.legend(title='Model type', fontsize=10, title_fontsize='12', bbox_to_anchor=(1.05, 1), loc='upper left')\n",
    "plt.grid(True, linestyle='-', linewidth=0.7, color='white', alpha=0.7)\n",
    "\n",
    "# Adjust layout\n",
    "plt.tight_layout(rect=[0, 0, 0.85, 1])\n",
    "plt.savefig(\"fig3styler4.svg\")\n",
    "\n",
    "plt.show()\n"
   ]
  },
  {
   "cell_type": "code",
   "execution_count": 178,
   "metadata": {},
   "outputs": [
    {
     "data": {
      "image/png": "[encoded data removed]",
      "text/plain": [
       "<Figure size 1000x400 with 1 Axes>"
      ]
     },
     "metadata": {},
     "output_type": "display_data"
    }
   ],
   "source": [
    "import matplotlib.pyplot as plt\n",
    "import numpy as np\n",
    "\n",
    "# Set up the plot style and colors\n",
    "plt.style.use('ggplot')\n",
    "plt.rcParams.update({\n",
    "    'axes.facecolor': '#f0f0f0',  # Light gray background for the plot area\n",
    "    'figure.facecolor': '#ffffff',  # Light gray background for the figure\n",
    "    'grid.color': 'white',\n",
    "    'axes.edgecolor': 'gray',\n",
    "    'axes.linewidth': 1.0,\n",
    "    'axes.labelcolor': 'gray',\n",
    "    'xtick.color': 'gray',\n",
    "    'ytick.color': 'gray',\n",
    "    'font.size': 12,\n",
    "    'legend.fontsize': 10,\n",
    "    'legend.title_fontsize': 10,\n",
    "    'figure.figsize': (14, 7)\n",
    "})\n",
    "\n",
    "plt.figure(figsize=(10, 4))\n",
    "\n",
    "# Transpose the matrix for easier plotting\n",
    "dino_matrix_updated_transposed = dino_matrix_updated.T\n",
    "\n",
    "# Define a list of colors for each task finished\n",
    "colors = plt.cm.viridis(np.linspace(0, 1, dino_matrix_updated_transposed.shape[1] + 1))\n",
    "markers = ['o', 's', '^', 'D', 'P', 'X', 'H']\n",
    "\n",
    "for task_finished in range(dino_matrix_updated_transposed.shape[1] + 1):\n",
    "    if task_finished == 0:\n",
    "        y = dino_matrix_updated_transposed[0, :]\n",
    "        x = np.arange(y.shape[0]) + 1\n",
    "        plt.plot(x, y, marker=markers[task_finished], color=colors[task_finished], \n",
    "                 linestyle='--', linewidth=2, markersize=7, label='Base')\n",
    "    elif task_finished == 1:\n",
    "        y = dino_matrix_updated_transposed[task_finished, 0]\n",
    "        x = [1]\n",
    "        plt.plot(x, y, marker=markers[task_finished], color=colors[task_finished], \n",
    "                 linestyle='', markersize=7, label=f'After task {task_finished}')\n",
    "    else:\n",
    "        y = dino_matrix_updated_transposed[task_finished, :]\n",
    "        x = np.arange(y.shape[0]) + 1\n",
    "        plt.plot(x, y, marker=markers[task_finished], color=colors[task_finished], \n",
    "                 linestyle='-', linewidth=2, markersize=7, label=f'After task {task_finished}')\n",
    "\n",
    "# Add title and labels\n",
    "plt.title('DINO Image Alignment on each task\\nduring each phase of task-incremental training', fontsize=13)\n",
    "plt.xlabel('Task Number', fontsize=14, color='gray')\n",
    "plt.ylabel('DINO Score', fontsize=14, color='gray')\n",
    "plt.xticks(ticks=np.arange(1, len(tasks)), labels=tasks[1:], fontsize=12, color='gray')\n",
    "plt.yticks(fontsize=12, color='gray')\n",
    "\n",
    "# Add legend and grid\n",
    "plt.legend(title='Model type', fontsize=10, title_fontsize='12', bbox_to_anchor=(1.05, 1), loc='upper left')\n",
    "plt.grid(True, linestyle='-', linewidth=0.7, color='white', alpha=0.7)\n",
    "\n",
    "# Adjust layout\n",
    "plt.tight_layout(rect=[0, 0, 0.85, 1])\n",
    "plt.savefig(\"fig4.png\")\n",
    "\n",
    "plt.show()\n"
   ]
  },
  {
   "cell_type": "code",
   "execution_count": null,
   "metadata": {},
   "outputs": [],
   "source": []
  }
 ],
 "metadata": {
  "kernelspec": {
   "display_name": "Python 3 (ipykernel)",
   "language": "python",
   "name": "python3"
  },
  "language_info": {
   "codemirror_mode": {
    "name": "ipython",
    "version": 3
   },
   "file_extension": ".py",
   "mimetype": "text/x-python",
   "name": "python",
   "nbconvert_exporter": "python",
   "pygments_lexer": "ipython3",
   "version": "3.11.9"
  }
 },
 "nbformat": 4,
 "nbformat_minor": 4
}
