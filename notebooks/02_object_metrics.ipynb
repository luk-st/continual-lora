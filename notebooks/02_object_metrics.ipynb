{
 "cells": [
  {
   "cell_type": "code",
   "execution_count": 179,
   "metadata": {},
   "outputs": [
    {
     "name": "stdout",
     "output_type": "stream",
     "text": [
      "The autoreload extension is already loaded. To reload it, use:\n",
      "  %reload_ext autoreload\n"
     ]
    }
   ],
   "source": [
    "%load_ext autoreload\n",
    "%autoreload 2"
   ]
  },
  {
   "cell_type": "markdown",
   "metadata": {},
   "source": [
    "### **CLIP-I, CLIP-T, DINO**"
   ]
  },
  {
   "cell_type": "markdown",
   "metadata": {},
   "source": [
    "- **CLIP-I** - average pairwise cosine similarity between CLIP embeddings of generated and real images\n",
    "- **CLIP-T** - average cosine similarity between prompt and CLIP embeddings of generated images\n",
    "- **DINO** - average pairwise cosine similarity between the Vit-S/16 DINO embeddings of generated and real images"
   ]
  },
  {
   "cell_type": "code",
   "execution_count": 180,
   "metadata": {},
   "outputs": [],
   "source": [
    "import os\n",
    "\n",
    "os.chdir(\"/net/tscratch/people/plglukaszst/projects/ziplora-analysis/\")"
   ]
  },
  {
   "cell_type": "code",
   "execution_count": 181,
   "metadata": {},
   "outputs": [],
   "source": [
    "from PIL import Image\n",
    "import matplotlib.pyplot as plt\n",
    "import torch\n",
    "from torchvision import transforms\n",
    "from torch.nn import functional as F\n",
    "from transformers import AutoModel, AutoProcessor, AutoTokenizer\n",
    "import argparse\n",
    "import os\n",
    "\n",
    "import torch\n",
    "from diffusers import DiffusionPipeline, StableDiffusionXLImg2ImgPipeline\n",
    "import itertools\n"
   ]
  },
  {
   "cell_type": "code",
   "execution_count": 182,
   "metadata": {},
   "outputs": [],
   "source": [
    "device = torch.device('cuda' if torch.cuda.is_available() else \"cpu\")"
   ]
  },
  {
   "cell_type": "code",
   "execution_count": 183,
   "metadata": {},
   "outputs": [],
   "source": [
    "from PIL import Image\n",
    "\n",
    "def image_grid(imgs, rows, cols):\n",
    "    assert len(imgs) == rows*cols\n",
    "\n",
    "    w, h = imgs[0].size\n",
    "    grid = Image.new('RGB', size=(cols*w, rows*h))\n",
    "    grid_w, grid_h = grid.size\n",
    "    \n",
    "    for i, img in enumerate(imgs):\n",
    "        grid.paste(img, box=(i%cols*w, i//cols*h))\n",
    "    return grid"
   ]
  },
  {
   "cell_type": "code",
   "execution_count": 184,
   "metadata": {},
   "outputs": [],
   "source": [
    "def get_model_outs(pretrained_model_name_or_path: str, prompts:list, samples_per_prompt: int):\n",
    "    model_path = pretrained_model_name_or_path\n",
    "    diffusion_pipe = DiffusionPipeline.from_pretrained(\n",
    "        model_path, torch_dtype=torch.float16\n",
    "    )\n",
    "    diffusion_pipe = diffusion_pipe.to(\"cuda\")\n",
    "    generator = torch.Generator(\"cuda\")\n",
    "    generator = generator.manual_seed(0)\n",
    "\n",
    "    tasks_prompts = []\n",
    "    tasks_samples = []\n",
    "    for current_prompt in prompts:\n",
    "        task_prompts = [current_prompt] * samples_per_prompt\n",
    "        task_samples = diffusion_pipe(\n",
    "            prompt=task_prompts, output_type=\"pil\", generator=generator\n",
    "        )\n",
    "        task_prompts.append(task_prompts)\n",
    "        tasks_samples.append(task_samples)\n",
    "\n",
    "    return tasks_prompts, list(itertools.chain.from_iterable([out.images for out in tasks_samples]))"
   ]
  },
  {
   "cell_type": "code",
   "execution_count": 185,
   "metadata": {},
   "outputs": [],
   "source": [
    "N_TASKS = 5\n",
    "MODELS = [\"watercolor_painting_style_sd1_rank64\", \"oil_painting_style_sd2_rank64\", \"colored_smoke_style_sd3_rank64\", \"wooden_sculpture_style_sd4_rank64\", \"cartoon_line_drawing_style_sd5_rank64\"]\n",
    "TOKENS = [\"skn style\", \"zwz style\", \"sbu style\", \"uwu style\", \"pdw style\"]\n",
    "AFTER_TASK_MODEL = {\n",
    "    k+1:v for k,v in zip(range(N_TASKS), MODELS)\n",
    "}\n",
    "TOKEN_TASK = {\n",
    "    k+1: v for k,v in zip(range(N_TASKS), MODELS)\n",
    "}\n",
    "\n",
    "PROMPTS = ['a wizard in {}', 'a policeman in {}', 'a santa hat in {}', 'a clock in {}', 'a mirror in {}']\n"
   ]
  },
  {
   "cell_type": "code",
   "execution_count": 189,
   "metadata": {},
   "outputs": [],
   "source": [
    "def run_model(task_number):\n",
    "    if task_number >= 1:\n",
    "        per_task_outs = {}\n",
    "        for curr_task_number in range(task_number):\n",
    "            task_outs = {}\n",
    "            model_path = f\"./models/rank/style/{AFTER_TASK_MODEL[task_number]}\"\n",
    "            prompts = [\n",
    "                prompt.format(TOKEN_TASK[curr_task_number+1]) for prompt in PROMPTS\n",
    "            ]\n",
    "            out_prompts, out_samples = get_model_outs(pretrained_model_name_or_path=model_path, prompts=prompts, samples_per_prompt=8)\n",
    "            task_outs[\"prompts\"] = out_prompts\n",
    "            task_outs[\"samples\"] = out_samples\n",
    "            per_task_outs[curr_task_number+1] = task_outs\n",
    "        return per_task_outs\n",
    "    else:\n",
    "        per_task_outs = {}\n",
    "        for curr_task_number in range(5):\n",
    "            task_outs = {}\n",
    "            model_path = f\"stabilityai/stable-diffusion-xl-base-1.0\"\n",
    "            prompts = [\n",
    "                prompt.format(TOKEN_TASK[curr_task_number+1]) for prompt in PROMPTS\n",
    "            ]\n",
    "            out_prompts, out_samples = get_model_outs(pretrained_model_name_or_path=model_path, prompts=prompts, samples_per_prompt=8)\n",
    "            task_outs[\"prompts\"] = out_prompts\n",
    "            task_outs[\"samples\"] = out_samples\n",
    "            per_task_outs[curr_task_number+1] = task_outs\n",
    "        return per_task_outs"
   ]
  },
  {
   "cell_type": "code",
   "execution_count": null,
   "metadata": {
    "scrolled": true
   },
   "outputs": [],
   "source": [
    "task_outs_0 = run_model(0)"
   ]
  },
  {
   "cell_type": "code",
   "execution_count": 222,
   "metadata": {},
   "outputs": [
    {
     "data": {
      "application/vnd.jupyter.widget-view+json": {
       "model_id": "f0b907d489ba4fd99cbb435936353496",
       "version_major": 2,
       "version_minor": 0
      },
      "text/plain": [
       "Loading pipeline components...:   0%|          | 0/7 [00:00<?, ?it/s]"
      ]
     },
     "metadata": {},
     "output_type": "display_data"
    },
    {
     "data": {
      "application/vnd.jupyter.widget-view+json": {
       "model_id": "322a37ac441245b7a1cfd0c3610098b3",
       "version_major": 2,
       "version_minor": 0
      },
      "text/plain": [
       "  0%|          | 0/50 [00:00<?, ?it/s]"
      ]
     },
     "metadata": {},
     "output_type": "display_data"
    },
    {
     "data": {
      "application/vnd.jupyter.widget-view+json": {
       "model_id": "affb369c60d74969990016f7d70c7c69",
       "version_major": 2,
       "version_minor": 0
      },
      "text/plain": [
       "  0%|          | 0/50 [00:00<?, ?it/s]"
      ]
     },
     "metadata": {},
     "output_type": "display_data"
    },
    {
     "data": {
      "application/vnd.jupyter.widget-view+json": {
       "model_id": "9be379f956c34e32b1f12f87b2b0ae62",
       "version_major": 2,
       "version_minor": 0
      },
      "text/plain": [
       "  0%|          | 0/50 [00:00<?, ?it/s]"
      ]
     },
     "metadata": {},
     "output_type": "display_data"
    },
    {
     "data": {
      "application/vnd.jupyter.widget-view+json": {
       "model_id": "e727627677654db485788d45b761a356",
       "version_major": 2,
       "version_minor": 0
      },
      "text/plain": [
       "  0%|          | 0/50 [00:00<?, ?it/s]"
      ]
     },
     "metadata": {},
     "output_type": "display_data"
    },
    {
     "data": {
      "application/vnd.jupyter.widget-view+json": {
       "model_id": "5f4682b6f6ab4991af4b5bd2794b4776",
       "version_major": 2,
       "version_minor": 0
      },
      "text/plain": [
       "  0%|          | 0/50 [00:00<?, ?it/s]"
      ]
     },
     "metadata": {},
     "output_type": "display_data"
    }
   ],
   "source": [
    "task_outs_1 = run_model(1)"
   ]
  },
  {
   "cell_type": "code",
   "execution_count": 223,
   "metadata": {},
   "outputs": [
    {
     "data": {
      "application/vnd.jupyter.widget-view+json": {
       "model_id": "6fa1bacf4f21413abd67fe99a393a24a",
       "version_major": 2,
       "version_minor": 0
      },
      "text/plain": [
       "Loading pipeline components...:   0%|          | 0/7 [00:00<?, ?it/s]"
      ]
     },
     "metadata": {},
     "output_type": "display_data"
    },
    {
     "data": {
      "application/vnd.jupyter.widget-view+json": {
       "model_id": "0ef7b0f5dcd54cec8cd4a394f3b9f23a",
       "version_major": 2,
       "version_minor": 0
      },
      "text/plain": [
       "  0%|          | 0/50 [00:00<?, ?it/s]"
      ]
     },
     "metadata": {},
     "output_type": "display_data"
    },
    {
     "data": {
      "application/vnd.jupyter.widget-view+json": {
       "model_id": "613e169a63004e2ca284285788eda21f",
       "version_major": 2,
       "version_minor": 0
      },
      "text/plain": [
       "  0%|          | 0/50 [00:00<?, ?it/s]"
      ]
     },
     "metadata": {},
     "output_type": "display_data"
    },
    {
     "data": {
      "application/vnd.jupyter.widget-view+json": {
       "model_id": "7ac72ab32a064d13afed709f71df17e1",
       "version_major": 2,
       "version_minor": 0
      },
      "text/plain": [
       "  0%|          | 0/50 [00:00<?, ?it/s]"
      ]
     },
     "metadata": {},
     "output_type": "display_data"
    },
    {
     "data": {
      "application/vnd.jupyter.widget-view+json": {
       "model_id": "0bd933ea80c14e25aa0367737acc6f92",
       "version_major": 2,
       "version_minor": 0
      },
      "text/plain": [
       "  0%|          | 0/50 [00:00<?, ?it/s]"
      ]
     },
     "metadata": {},
     "output_type": "display_data"
    },
    {
     "data": {
      "application/vnd.jupyter.widget-view+json": {
       "model_id": "ddd042cee7d94016bb8c4f5abe4590b8",
       "version_major": 2,
       "version_minor": 0
      },
      "text/plain": [
       "  0%|          | 0/50 [00:00<?, ?it/s]"
      ]
     },
     "metadata": {},
     "output_type": "display_data"
    },
    {
     "data": {
      "application/vnd.jupyter.widget-view+json": {
       "model_id": "1fa74c1b1bbf4138bcc77ab49de1d76c",
       "version_major": 2,
       "version_minor": 0
      },
      "text/plain": [
       "Loading pipeline components...:   0%|          | 0/7 [00:00<?, ?it/s]"
      ]
     },
     "metadata": {},
     "output_type": "display_data"
    },
    {
     "data": {
      "application/vnd.jupyter.widget-view+json": {
       "model_id": "824b9edffa72414c9cd818735758c378",
       "version_major": 2,
       "version_minor": 0
      },
      "text/plain": [
       "  0%|          | 0/50 [00:00<?, ?it/s]"
      ]
     },
     "metadata": {},
     "output_type": "display_data"
    },
    {
     "data": {
      "application/vnd.jupyter.widget-view+json": {
       "model_id": "4dde2a30bb1b4151900e8af6eaa36f4e",
       "version_major": 2,
       "version_minor": 0
      },
      "text/plain": [
       "  0%|          | 0/50 [00:00<?, ?it/s]"
      ]
     },
     "metadata": {},
     "output_type": "display_data"
    },
    {
     "data": {
      "application/vnd.jupyter.widget-view+json": {
       "model_id": "1dfd9b8350544e0e9afcd81cf54f3b89",
       "version_major": 2,
       "version_minor": 0
      },
      "text/plain": [
       "  0%|          | 0/50 [00:00<?, ?it/s]"
      ]
     },
     "metadata": {},
     "output_type": "display_data"
    },
    {
     "data": {
      "application/vnd.jupyter.widget-view+json": {
       "model_id": "4af03a9f07664f69be4b207ce93bd8eb",
       "version_major": 2,
       "version_minor": 0
      },
      "text/plain": [
       "  0%|          | 0/50 [00:00<?, ?it/s]"
      ]
     },
     "metadata": {},
     "output_type": "display_data"
    },
    {
     "data": {
      "application/vnd.jupyter.widget-view+json": {
       "model_id": "9c5baf5b36ea4120916e03dacec6ada9",
       "version_major": 2,
       "version_minor": 0
      },
      "text/plain": [
       "  0%|          | 0/50 [00:00<?, ?it/s]"
      ]
     },
     "metadata": {},
     "output_type": "display_data"
    }
   ],
   "source": [
    "task_outs_2 = run_model(2)"
   ]
  },
  {
   "cell_type": "code",
   "execution_count": 224,
   "metadata": {},
   "outputs": [
    {
     "data": {
      "application/vnd.jupyter.widget-view+json": {
       "model_id": "9cdbd41d8db24d90861e7afb1bc00eee",
       "version_major": 2,
       "version_minor": 0
      },
      "text/plain": [
       "Loading pipeline components...:   0%|          | 0/7 [00:00<?, ?it/s]"
      ]
     },
     "metadata": {},
     "output_type": "display_data"
    },
    {
     "data": {
      "application/vnd.jupyter.widget-view+json": {
       "model_id": "5bd460442bc24b3b816b93c2919d1d7f",
       "version_major": 2,
       "version_minor": 0
      },
      "text/plain": [
       "  0%|          | 0/50 [00:00<?, ?it/s]"
      ]
     },
     "metadata": {},
     "output_type": "display_data"
    },
    {
     "data": {
      "application/vnd.jupyter.widget-view+json": {
       "model_id": "87df7ef7d6f44f3ba9018460c417778f",
       "version_major": 2,
       "version_minor": 0
      },
      "text/plain": [
       "  0%|          | 0/50 [00:00<?, ?it/s]"
      ]
     },
     "metadata": {},
     "output_type": "display_data"
    },
    {
     "data": {
      "application/vnd.jupyter.widget-view+json": {
       "model_id": "0ee13c50533e444d90c30b0de8f1e85c",
       "version_major": 2,
       "version_minor": 0
      },
      "text/plain": [
       "  0%|          | 0/50 [00:00<?, ?it/s]"
      ]
     },
     "metadata": {},
     "output_type": "display_data"
    },
    {
     "data": {
      "application/vnd.jupyter.widget-view+json": {
       "model_id": "aed3b433a5f04faead1d11a98bb611eb",
       "version_major": 2,
       "version_minor": 0
      },
      "text/plain": [
       "  0%|          | 0/50 [00:00<?, ?it/s]"
      ]
     },
     "metadata": {},
     "output_type": "display_data"
    },
    {
     "data": {
      "application/vnd.jupyter.widget-view+json": {
       "model_id": "42da99dc05754fecbe7cf3a7bb00392a",
       "version_major": 2,
       "version_minor": 0
      },
      "text/plain": [
       "  0%|          | 0/50 [00:00<?, ?it/s]"
      ]
     },
     "metadata": {},
     "output_type": "display_data"
    },
    {
     "data": {
      "application/vnd.jupyter.widget-view+json": {
       "model_id": "bfa69e5f79474025a9b53d273087be32",
       "version_major": 2,
       "version_minor": 0
      },
      "text/plain": [
       "Loading pipeline components...:   0%|          | 0/7 [00:00<?, ?it/s]"
      ]
     },
     "metadata": {},
     "output_type": "display_data"
    },
    {
     "data": {
      "application/vnd.jupyter.widget-view+json": {
       "model_id": "fe92b2164f7d4bd1945a67f8851a7ca7",
       "version_major": 2,
       "version_minor": 0
      },
      "text/plain": [
       "  0%|          | 0/50 [00:00<?, ?it/s]"
      ]
     },
     "metadata": {},
     "output_type": "display_data"
    },
    {
     "data": {
      "application/vnd.jupyter.widget-view+json": {
       "model_id": "5e92ccea46e540d9a6ad01ccfc70332f",
       "version_major": 2,
       "version_minor": 0
      },
      "text/plain": [
       "  0%|          | 0/50 [00:00<?, ?it/s]"
      ]
     },
     "metadata": {},
     "output_type": "display_data"
    },
    {
     "data": {
      "application/vnd.jupyter.widget-view+json": {
       "model_id": "1c8560f7841a402cb5e396cbbfa9eb81",
       "version_major": 2,
       "version_minor": 0
      },
      "text/plain": [
       "  0%|          | 0/50 [00:00<?, ?it/s]"
      ]
     },
     "metadata": {},
     "output_type": "display_data"
    },
    {
     "data": {
      "application/vnd.jupyter.widget-view+json": {
       "model_id": "e2edecec4f9d4524927c1506449941dc",
       "version_major": 2,
       "version_minor": 0
      },
      "text/plain": [
       "  0%|          | 0/50 [00:00<?, ?it/s]"
      ]
     },
     "metadata": {},
     "output_type": "display_data"
    },
    {
     "data": {
      "application/vnd.jupyter.widget-view+json": {
       "model_id": "7938dae052b14824abf5b4b25209e703",
       "version_major": 2,
       "version_minor": 0
      },
      "text/plain": [
       "  0%|          | 0/50 [00:00<?, ?it/s]"
      ]
     },
     "metadata": {},
     "output_type": "display_data"
    },
    {
     "data": {
      "application/vnd.jupyter.widget-view+json": {
       "model_id": "07fef89fa78d49be818f68ede4ec4c9d",
       "version_major": 2,
       "version_minor": 0
      },
      "text/plain": [
       "Loading pipeline components...:   0%|          | 0/7 [00:00<?, ?it/s]"
      ]
     },
     "metadata": {},
     "output_type": "display_data"
    },
    {
     "data": {
      "application/vnd.jupyter.widget-view+json": {
       "model_id": "02d215891bcd4505aa009de09a443bd5",
       "version_major": 2,
       "version_minor": 0
      },
      "text/plain": [
       "  0%|          | 0/50 [00:00<?, ?it/s]"
      ]
     },
     "metadata": {},
     "output_type": "display_data"
    },
    {
     "data": {
      "application/vnd.jupyter.widget-view+json": {
       "model_id": "bf66554e55c1450999a122dcc07a8d5f",
       "version_major": 2,
       "version_minor": 0
      },
      "text/plain": [
       "  0%|          | 0/50 [00:00<?, ?it/s]"
      ]
     },
     "metadata": {},
     "output_type": "display_data"
    },
    {
     "data": {
      "application/vnd.jupyter.widget-view+json": {
       "model_id": "e09232674d5e4b83a79b1f4ea0119d82",
       "version_major": 2,
       "version_minor": 0
      },
      "text/plain": [
       "  0%|          | 0/50 [00:00<?, ?it/s]"
      ]
     },
     "metadata": {},
     "output_type": "display_data"
    },
    {
     "data": {
      "application/vnd.jupyter.widget-view+json": {
       "model_id": "01228eeac36a4db5b010cca772833888",
       "version_major": 2,
       "version_minor": 0
      },
      "text/plain": [
       "  0%|          | 0/50 [00:00<?, ?it/s]"
      ]
     },
     "metadata": {},
     "output_type": "display_data"
    },
    {
     "data": {
      "application/vnd.jupyter.widget-view+json": {
       "model_id": "acfa22776381410fa257043ffadea710",
       "version_major": 2,
       "version_minor": 0
      },
      "text/plain": [
       "  0%|          | 0/50 [00:00<?, ?it/s]"
      ]
     },
     "metadata": {},
     "output_type": "display_data"
    }
   ],
   "source": [
    "task_outs_3 = run_model(3)"
   ]
  },
  {
   "cell_type": "code",
   "execution_count": 225,
   "metadata": {},
   "outputs": [
    {
     "data": {
      "application/vnd.jupyter.widget-view+json": {
       "model_id": "cbe33f3d3cb74158b6142e1542ba6976",
       "version_major": 2,
       "version_minor": 0
      },
      "text/plain": [
       "Loading pipeline components...:   0%|          | 0/7 [00:00<?, ?it/s]"
      ]
     },
     "metadata": {},
     "output_type": "display_data"
    },
    {
     "data": {
      "application/vnd.jupyter.widget-view+json": {
       "model_id": "77f5875f94084c3288ea0467b62015ac",
       "version_major": 2,
       "version_minor": 0
      },
      "text/plain": [
       "  0%|          | 0/50 [00:00<?, ?it/s]"
      ]
     },
     "metadata": {},
     "output_type": "display_data"
    },
    {
     "data": {
      "application/vnd.jupyter.widget-view+json": {
       "model_id": "959c548e2c684a10948cda90927559b9",
       "version_major": 2,
       "version_minor": 0
      },
      "text/plain": [
       "  0%|          | 0/50 [00:00<?, ?it/s]"
      ]
     },
     "metadata": {},
     "output_type": "display_data"
    },
    {
     "data": {
      "application/vnd.jupyter.widget-view+json": {
       "model_id": "58fd8d88fbc0417c83fde44244adde3f",
       "version_major": 2,
       "version_minor": 0
      },
      "text/plain": [
       "  0%|          | 0/50 [00:00<?, ?it/s]"
      ]
     },
     "metadata": {},
     "output_type": "display_data"
    },
    {
     "data": {
      "application/vnd.jupyter.widget-view+json": {
       "model_id": "d661e45d7ff24250b128fe6e8eb7568f",
       "version_major": 2,
       "version_minor": 0
      },
      "text/plain": [
       "  0%|          | 0/50 [00:00<?, ?it/s]"
      ]
     },
     "metadata": {},
     "output_type": "display_data"
    },
    {
     "data": {
      "application/vnd.jupyter.widget-view+json": {
       "model_id": "f15d88f78b69416d858df3d89d2ff670",
       "version_major": 2,
       "version_minor": 0
      },
      "text/plain": [
       "  0%|          | 0/50 [00:00<?, ?it/s]"
      ]
     },
     "metadata": {},
     "output_type": "display_data"
    },
    {
     "data": {
      "application/vnd.jupyter.widget-view+json": {
       "model_id": "96132fc629d943c9b90165fd72178cc9",
       "version_major": 2,
       "version_minor": 0
      },
      "text/plain": [
       "Loading pipeline components...:   0%|          | 0/7 [00:00<?, ?it/s]"
      ]
     },
     "metadata": {},
     "output_type": "display_data"
    },
    {
     "data": {
      "application/vnd.jupyter.widget-view+json": {
       "model_id": "fc494dc20af146f0ac9837c7ae84b923",
       "version_major": 2,
       "version_minor": 0
      },
      "text/plain": [
       "  0%|          | 0/50 [00:00<?, ?it/s]"
      ]
     },
     "metadata": {},
     "output_type": "display_data"
    },
    {
     "data": {
      "application/vnd.jupyter.widget-view+json": {
       "model_id": "5c00f75b82bb4e2bb6a251bf82032eb2",
       "version_major": 2,
       "version_minor": 0
      },
      "text/plain": [
       "  0%|          | 0/50 [00:00<?, ?it/s]"
      ]
     },
     "metadata": {},
     "output_type": "display_data"
    },
    {
     "data": {
      "application/vnd.jupyter.widget-view+json": {
       "model_id": "372a6315c97e41a8b8f3cac33d0f77ad",
       "version_major": 2,
       "version_minor": 0
      },
      "text/plain": [
       "  0%|          | 0/50 [00:00<?, ?it/s]"
      ]
     },
     "metadata": {},
     "output_type": "display_data"
    },
    {
     "data": {
      "application/vnd.jupyter.widget-view+json": {
       "model_id": "456256b171fb486b880c73499e2c0960",
       "version_major": 2,
       "version_minor": 0
      },
      "text/plain": [
       "  0%|          | 0/50 [00:00<?, ?it/s]"
      ]
     },
     "metadata": {},
     "output_type": "display_data"
    },
    {
     "data": {
      "application/vnd.jupyter.widget-view+json": {
       "model_id": "8528103af6fd4465b36eb46068b8edd0",
       "version_major": 2,
       "version_minor": 0
      },
      "text/plain": [
       "  0%|          | 0/50 [00:00<?, ?it/s]"
      ]
     },
     "metadata": {},
     "output_type": "display_data"
    },
    {
     "data": {
      "application/vnd.jupyter.widget-view+json": {
       "model_id": "5964481d736d4f45bcfe8b8836e93f89",
       "version_major": 2,
       "version_minor": 0
      },
      "text/plain": [
       "Loading pipeline components...:   0%|          | 0/7 [00:00<?, ?it/s]"
      ]
     },
     "metadata": {},
     "output_type": "display_data"
    },
    {
     "data": {
      "application/vnd.jupyter.widget-view+json": {
       "model_id": "fa99a7c46178442fbe898369bf397911",
       "version_major": 2,
       "version_minor": 0
      },
      "text/plain": [
       "  0%|          | 0/50 [00:00<?, ?it/s]"
      ]
     },
     "metadata": {},
     "output_type": "display_data"
    },
    {
     "data": {
      "application/vnd.jupyter.widget-view+json": {
       "model_id": "18c977a4f81e4cbcb98492effab10e64",
       "version_major": 2,
       "version_minor": 0
      },
      "text/plain": [
       "  0%|          | 0/50 [00:00<?, ?it/s]"
      ]
     },
     "metadata": {},
     "output_type": "display_data"
    },
    {
     "data": {
      "application/vnd.jupyter.widget-view+json": {
       "model_id": "ef14cda5d0294c74bc0925be7af248e7",
       "version_major": 2,
       "version_minor": 0
      },
      "text/plain": [
       "  0%|          | 0/50 [00:00<?, ?it/s]"
      ]
     },
     "metadata": {},
     "output_type": "display_data"
    },
    {
     "data": {
      "application/vnd.jupyter.widget-view+json": {
       "model_id": "7c0e6fb9c66545b3a557ba9f698a3c90",
       "version_major": 2,
       "version_minor": 0
      },
      "text/plain": [
       "  0%|          | 0/50 [00:00<?, ?it/s]"
      ]
     },
     "metadata": {},
     "output_type": "display_data"
    },
    {
     "data": {
      "application/vnd.jupyter.widget-view+json": {
       "model_id": "ea6f250c025c487ea65461b850466b74",
       "version_major": 2,
       "version_minor": 0
      },
      "text/plain": [
       "  0%|          | 0/50 [00:00<?, ?it/s]"
      ]
     },
     "metadata": {},
     "output_type": "display_data"
    },
    {
     "data": {
      "application/vnd.jupyter.widget-view+json": {
       "model_id": "366bd4fa74d24045a1cafc1b7959adfc",
       "version_major": 2,
       "version_minor": 0
      },
      "text/plain": [
       "Loading pipeline components...:   0%|          | 0/7 [00:00<?, ?it/s]"
      ]
     },
     "metadata": {},
     "output_type": "display_data"
    },
    {
     "data": {
      "application/vnd.jupyter.widget-view+json": {
       "model_id": "5cc62cda8fc74ea39862eab6636232b0",
       "version_major": 2,
       "version_minor": 0
      },
      "text/plain": [
       "  0%|          | 0/50 [00:00<?, ?it/s]"
      ]
     },
     "metadata": {},
     "output_type": "display_data"
    },
    {
     "data": {
      "application/vnd.jupyter.widget-view+json": {
       "model_id": "6d652f4ae7264175a31a350a4beb0e55",
       "version_major": 2,
       "version_minor": 0
      },
      "text/plain": [
       "  0%|          | 0/50 [00:00<?, ?it/s]"
      ]
     },
     "metadata": {},
     "output_type": "display_data"
    },
    {
     "data": {
      "application/vnd.jupyter.widget-view+json": {
       "model_id": "c12f392a68314eeab787f03b2f446c26",
       "version_major": 2,
       "version_minor": 0
      },
      "text/plain": [
       "  0%|          | 0/50 [00:00<?, ?it/s]"
      ]
     },
     "metadata": {},
     "output_type": "display_data"
    },
    {
     "data": {
      "application/vnd.jupyter.widget-view+json": {
       "model_id": "121713ee12284e008549bfbd7b3bf327",
       "version_major": 2,
       "version_minor": 0
      },
      "text/plain": [
       "  0%|          | 0/50 [00:00<?, ?it/s]"
      ]
     },
     "metadata": {},
     "output_type": "display_data"
    },
    {
     "data": {
      "application/vnd.jupyter.widget-view+json": {
       "model_id": "7f7f5c77579542dca803817762f1109d",
       "version_major": 2,
       "version_minor": 0
      },
      "text/plain": [
       "  0%|          | 0/50 [00:00<?, ?it/s]"
      ]
     },
     "metadata": {},
     "output_type": "display_data"
    }
   ],
   "source": [
    "task_outs_4 = run_model(4)"
   ]
  },
  {
   "cell_type": "code",
   "execution_count": 226,
   "metadata": {},
   "outputs": [
    {
     "data": {
      "application/vnd.jupyter.widget-view+json": {
       "model_id": "12f3c11fc0c946cc834b29c085a20431",
       "version_major": 2,
       "version_minor": 0
      },
      "text/plain": [
       "Loading pipeline components...:   0%|          | 0/7 [00:00<?, ?it/s]"
      ]
     },
     "metadata": {},
     "output_type": "display_data"
    },
    {
     "data": {
      "application/vnd.jupyter.widget-view+json": {
       "model_id": "dbf5717816eb48a1ae76e705b3e782f3",
       "version_major": 2,
       "version_minor": 0
      },
      "text/plain": [
       "  0%|          | 0/50 [00:00<?, ?it/s]"
      ]
     },
     "metadata": {},
     "output_type": "display_data"
    },
    {
     "data": {
      "application/vnd.jupyter.widget-view+json": {
       "model_id": "0a6c5bb9bede49549aac05fdff9d5a74",
       "version_major": 2,
       "version_minor": 0
      },
      "text/plain": [
       "  0%|          | 0/50 [00:00<?, ?it/s]"
      ]
     },
     "metadata": {},
     "output_type": "display_data"
    },
    {
     "data": {
      "application/vnd.jupyter.widget-view+json": {
       "model_id": "c367c6b0f3b742fb8f3e9d22d49f0924",
       "version_major": 2,
       "version_minor": 0
      },
      "text/plain": [
       "  0%|          | 0/50 [00:00<?, ?it/s]"
      ]
     },
     "metadata": {},
     "output_type": "display_data"
    },
    {
     "data": {
      "application/vnd.jupyter.widget-view+json": {
       "model_id": "e1d447c096af4256ba6e37ba759ead1f",
       "version_major": 2,
       "version_minor": 0
      },
      "text/plain": [
       "  0%|          | 0/50 [00:00<?, ?it/s]"
      ]
     },
     "metadata": {},
     "output_type": "display_data"
    },
    {
     "data": {
      "application/vnd.jupyter.widget-view+json": {
       "model_id": "0b220ac28b3f49c8bab2dd4781194ef5",
       "version_major": 2,
       "version_minor": 0
      },
      "text/plain": [
       "  0%|          | 0/50 [00:00<?, ?it/s]"
      ]
     },
     "metadata": {},
     "output_type": "display_data"
    },
    {
     "data": {
      "application/vnd.jupyter.widget-view+json": {
       "model_id": "488dc8c2b8c74c08962a57fe5158cfe7",
       "version_major": 2,
       "version_minor": 0
      },
      "text/plain": [
       "Loading pipeline components...:   0%|          | 0/7 [00:00<?, ?it/s]"
      ]
     },
     "metadata": {},
     "output_type": "display_data"
    },
    {
     "data": {
      "application/vnd.jupyter.widget-view+json": {
       "model_id": "b8c1e5a678a64520a04d2ba2f118a7dc",
       "version_major": 2,
       "version_minor": 0
      },
      "text/plain": [
       "  0%|          | 0/50 [00:00<?, ?it/s]"
      ]
     },
     "metadata": {},
     "output_type": "display_data"
    },
    {
     "data": {
      "application/vnd.jupyter.widget-view+json": {
       "model_id": "2a467940d9c047f9a92ea3ab41b4c4af",
       "version_major": 2,
       "version_minor": 0
      },
      "text/plain": [
       "  0%|          | 0/50 [00:00<?, ?it/s]"
      ]
     },
     "metadata": {},
     "output_type": "display_data"
    },
    {
     "data": {
      "application/vnd.jupyter.widget-view+json": {
       "model_id": "97faf1b23a5e43a980f4d29940e3990e",
       "version_major": 2,
       "version_minor": 0
      },
      "text/plain": [
       "  0%|          | 0/50 [00:00<?, ?it/s]"
      ]
     },
     "metadata": {},
     "output_type": "display_data"
    },
    {
     "data": {
      "application/vnd.jupyter.widget-view+json": {
       "model_id": "892f1d810e594967916b81c3b2b30207",
       "version_major": 2,
       "version_minor": 0
      },
      "text/plain": [
       "  0%|          | 0/50 [00:00<?, ?it/s]"
      ]
     },
     "metadata": {},
     "output_type": "display_data"
    },
    {
     "data": {
      "application/vnd.jupyter.widget-view+json": {
       "model_id": "28dfef93ec2442438af6c4c3dc26a928",
       "version_major": 2,
       "version_minor": 0
      },
      "text/plain": [
       "  0%|          | 0/50 [00:00<?, ?it/s]"
      ]
     },
     "metadata": {},
     "output_type": "display_data"
    },
    {
     "data": {
      "application/vnd.jupyter.widget-view+json": {
       "model_id": "cb6132d08cf24672afc6457b64ec9c20",
       "version_major": 2,
       "version_minor": 0
      },
      "text/plain": [
       "Loading pipeline components...:   0%|          | 0/7 [00:00<?, ?it/s]"
      ]
     },
     "metadata": {},
     "output_type": "display_data"
    },
    {
     "data": {
      "application/vnd.jupyter.widget-view+json": {
       "model_id": "1a6e384196ea4fab90a56bd7b2a8d2e4",
       "version_major": 2,
       "version_minor": 0
      },
      "text/plain": [
       "  0%|          | 0/50 [00:00<?, ?it/s]"
      ]
     },
     "metadata": {},
     "output_type": "display_data"
    },
    {
     "data": {
      "application/vnd.jupyter.widget-view+json": {
       "model_id": "33fa76e7407244ae94301870306d03ce",
       "version_major": 2,
       "version_minor": 0
      },
      "text/plain": [
       "  0%|          | 0/50 [00:00<?, ?it/s]"
      ]
     },
     "metadata": {},
     "output_type": "display_data"
    },
    {
     "data": {
      "application/vnd.jupyter.widget-view+json": {
       "model_id": "b1fb8fb7f08f41258c4eafe21e8603e5",
       "version_major": 2,
       "version_minor": 0
      },
      "text/plain": [
       "  0%|          | 0/50 [00:00<?, ?it/s]"
      ]
     },
     "metadata": {},
     "output_type": "display_data"
    },
    {
     "data": {
      "application/vnd.jupyter.widget-view+json": {
       "model_id": "eda5730c7fc946c8b89e7452383b8739",
       "version_major": 2,
       "version_minor": 0
      },
      "text/plain": [
       "  0%|          | 0/50 [00:00<?, ?it/s]"
      ]
     },
     "metadata": {},
     "output_type": "display_data"
    },
    {
     "data": {
      "application/vnd.jupyter.widget-view+json": {
       "model_id": "dd2635bcd673428ea8aa62cbfa5b05a3",
       "version_major": 2,
       "version_minor": 0
      },
      "text/plain": [
       "  0%|          | 0/50 [00:00<?, ?it/s]"
      ]
     },
     "metadata": {},
     "output_type": "display_data"
    },
    {
     "data": {
      "application/vnd.jupyter.widget-view+json": {
       "model_id": "2930865aa7b44d9797078df9f3ecd734",
       "version_major": 2,
       "version_minor": 0
      },
      "text/plain": [
       "Loading pipeline components...:   0%|          | 0/7 [00:00<?, ?it/s]"
      ]
     },
     "metadata": {},
     "output_type": "display_data"
    },
    {
     "data": {
      "application/vnd.jupyter.widget-view+json": {
       "model_id": "3dc72f9629a54fd7b634b7ec14cbe91c",
       "version_major": 2,
       "version_minor": 0
      },
      "text/plain": [
       "  0%|          | 0/50 [00:00<?, ?it/s]"
      ]
     },
     "metadata": {},
     "output_type": "display_data"
    },
    {
     "data": {
      "application/vnd.jupyter.widget-view+json": {
       "model_id": "ef464e5e35024540937b4c703757b803",
       "version_major": 2,
       "version_minor": 0
      },
      "text/plain": [
       "  0%|          | 0/50 [00:00<?, ?it/s]"
      ]
     },
     "metadata": {},
     "output_type": "display_data"
    },
    {
     "data": {
      "application/vnd.jupyter.widget-view+json": {
       "model_id": "1a35c42ab9444d518d78e2530c8c055f",
       "version_major": 2,
       "version_minor": 0
      },
      "text/plain": [
       "  0%|          | 0/50 [00:00<?, ?it/s]"
      ]
     },
     "metadata": {},
     "output_type": "display_data"
    },
    {
     "data": {
      "application/vnd.jupyter.widget-view+json": {
       "model_id": "b52409234f384eb683b9a80abd309ca4",
       "version_major": 2,
       "version_minor": 0
      },
      "text/plain": [
       "  0%|          | 0/50 [00:00<?, ?it/s]"
      ]
     },
     "metadata": {},
     "output_type": "display_data"
    },
    {
     "data": {
      "application/vnd.jupyter.widget-view+json": {
       "model_id": "271a0180135a47b59d2f37410c0b92b7",
       "version_major": 2,
       "version_minor": 0
      },
      "text/plain": [
       "  0%|          | 0/50 [00:00<?, ?it/s]"
      ]
     },
     "metadata": {},
     "output_type": "display_data"
    },
    {
     "data": {
      "application/vnd.jupyter.widget-view+json": {
       "model_id": "7fef3b86744543108bd9139017c0663f",
       "version_major": 2,
       "version_minor": 0
      },
      "text/plain": [
       "Loading pipeline components...:   0%|          | 0/7 [00:00<?, ?it/s]"
      ]
     },
     "metadata": {},
     "output_type": "display_data"
    },
    {
     "data": {
      "application/vnd.jupyter.widget-view+json": {
       "model_id": "fd485c9641d947e4a99106220be5926e",
       "version_major": 2,
       "version_minor": 0
      },
      "text/plain": [
       "  0%|          | 0/50 [00:00<?, ?it/s]"
      ]
     },
     "metadata": {},
     "output_type": "display_data"
    },
    {
     "data": {
      "application/vnd.jupyter.widget-view+json": {
       "model_id": "eeb06b82cb614caa859164e65f8335e1",
       "version_major": 2,
       "version_minor": 0
      },
      "text/plain": [
       "  0%|          | 0/50 [00:00<?, ?it/s]"
      ]
     },
     "metadata": {},
     "output_type": "display_data"
    },
    {
     "data": {
      "application/vnd.jupyter.widget-view+json": {
       "model_id": "8b57d6a24da14f2682aaa3a1ca28fc48",
       "version_major": 2,
       "version_minor": 0
      },
      "text/plain": [
       "  0%|          | 0/50 [00:00<?, ?it/s]"
      ]
     },
     "metadata": {},
     "output_type": "display_data"
    },
    {
     "data": {
      "application/vnd.jupyter.widget-view+json": {
       "model_id": "08caffb71ad44c4dbab1d4be3cde7c9e",
       "version_major": 2,
       "version_minor": 0
      },
      "text/plain": [
       "  0%|          | 0/50 [00:00<?, ?it/s]"
      ]
     },
     "metadata": {},
     "output_type": "display_data"
    },
    {
     "data": {
      "application/vnd.jupyter.widget-view+json": {
       "model_id": "5be338af78834209bd2d5ba311250247",
       "version_major": 2,
       "version_minor": 0
      },
      "text/plain": [
       "  0%|          | 0/50 [00:00<?, ?it/s]"
      ]
     },
     "metadata": {},
     "output_type": "display_data"
    }
   ],
   "source": [
    "task_outs_5 = run_model(5)"
   ]
  },
  {
   "cell_type": "code",
   "execution_count": 238,
   "metadata": {},
   "outputs": [],
   "source": [
    "# import pickle\n",
    "\n",
    "# with open(\"results_rank4.pkl\", \"wb\") as f:\n",
    "#     pickle.dump([task_outs_0,task_outs_1,task_outs_2,task_outs_3,task_outs_4,task_outs_5],f)"
   ]
  },
  {
   "cell_type": "code",
   "execution_count": 248,
   "metadata": {},
   "outputs": [],
   "source": [
    "with open(\"results_rank4.pkl\", \"rb\") as f:\n",
    "    xd = pickle.load(f)"
   ]
  },
  {
   "cell_type": "code",
   "execution_count": 240,
   "metadata": {},
   "outputs": [
    {
     "data": {
      "text/plain": [
       "{1: {'prompts': [],\n",
       "  'samples': [<PIL.Image.Image image mode=RGB size=1024x1024>,\n",
       "   <PIL.Image.Image image mode=RGB size=1024x1024>,\n",
       "   <PIL.Image.Image image mode=RGB size=1024x1024>,\n",
       "   <PIL.Image.Image image mode=RGB size=1024x1024>,\n",
       "   <PIL.Image.Image image mode=RGB size=1024x1024>,\n",
       "   <PIL.Image.Image image mode=RGB size=1024x1024>,\n",
       "   <PIL.Image.Image image mode=RGB size=1024x1024>,\n",
       "   <PIL.Image.Image image mode=RGB size=1024x1024>,\n",
       "   <PIL.Image.Image image mode=RGB size=1024x1024>,\n",
       "   <PIL.Image.Image image mode=RGB size=1024x1024>,\n",
       "   <PIL.Image.Image image mode=RGB size=1024x1024>,\n",
       "   <PIL.Image.Image image mode=RGB size=1024x1024>,\n",
       "   <PIL.Image.Image image mode=RGB size=1024x1024>,\n",
       "   <PIL.Image.Image image mode=RGB size=1024x1024>,\n",
       "   <PIL.Image.Image image mode=RGB size=1024x1024>,\n",
       "   <PIL.Image.Image image mode=RGB size=1024x1024>,\n",
       "   <PIL.Image.Image image mode=RGB size=1024x1024>,\n",
       "   <PIL.Image.Image image mode=RGB size=1024x1024>,\n",
       "   <PIL.Image.Image image mode=RGB size=1024x1024>,\n",
       "   <PIL.Image.Image image mode=RGB size=1024x1024>,\n",
       "   <PIL.Image.Image image mode=RGB size=1024x1024>,\n",
       "   <PIL.Image.Image image mode=RGB size=1024x1024>,\n",
       "   <PIL.Image.Image image mode=RGB size=1024x1024>,\n",
       "   <PIL.Image.Image image mode=RGB size=1024x1024>,\n",
       "   <PIL.Image.Image image mode=RGB size=1024x1024>,\n",
       "   <PIL.Image.Image image mode=RGB size=1024x1024>,\n",
       "   <PIL.Image.Image image mode=RGB size=1024x1024>,\n",
       "   <PIL.Image.Image image mode=RGB size=1024x1024>,\n",
       "   <PIL.Image.Image image mode=RGB size=1024x1024>,\n",
       "   <PIL.Image.Image image mode=RGB size=1024x1024>,\n",
       "   <PIL.Image.Image image mode=RGB size=1024x1024>,\n",
       "   <PIL.Image.Image image mode=RGB size=1024x1024>,\n",
       "   <PIL.Image.Image image mode=RGB size=1024x1024>,\n",
       "   <PIL.Image.Image image mode=RGB size=1024x1024>,\n",
       "   <PIL.Image.Image image mode=RGB size=1024x1024>,\n",
       "   <PIL.Image.Image image mode=RGB size=1024x1024>,\n",
       "   <PIL.Image.Image image mode=RGB size=1024x1024>,\n",
       "   <PIL.Image.Image image mode=RGB size=1024x1024>,\n",
       "   <PIL.Image.Image image mode=RGB size=1024x1024>,\n",
       "   <PIL.Image.Image image mode=RGB size=1024x1024>]},\n",
       " 2: {'prompts': [],\n",
       "  'samples': [<PIL.Image.Image image mode=RGB size=1024x1024>,\n",
       "   <PIL.Image.Image image mode=RGB size=1024x1024>,\n",
       "   <PIL.Image.Image image mode=RGB size=1024x1024>,\n",
       "   <PIL.Image.Image image mode=RGB size=1024x1024>,\n",
       "   <PIL.Image.Image image mode=RGB size=1024x1024>,\n",
       "   <PIL.Image.Image image mode=RGB size=1024x1024>,\n",
       "   <PIL.Image.Image image mode=RGB size=1024x1024>,\n",
       "   <PIL.Image.Image image mode=RGB size=1024x1024>,\n",
       "   <PIL.Image.Image image mode=RGB size=1024x1024>,\n",
       "   <PIL.Image.Image image mode=RGB size=1024x1024>,\n",
       "   <PIL.Image.Image image mode=RGB size=1024x1024>,\n",
       "   <PIL.Image.Image image mode=RGB size=1024x1024>,\n",
       "   <PIL.Image.Image image mode=RGB size=1024x1024>,\n",
       "   <PIL.Image.Image image mode=RGB size=1024x1024>,\n",
       "   <PIL.Image.Image image mode=RGB size=1024x1024>,\n",
       "   <PIL.Image.Image image mode=RGB size=1024x1024>,\n",
       "   <PIL.Image.Image image mode=RGB size=1024x1024>,\n",
       "   <PIL.Image.Image image mode=RGB size=1024x1024>,\n",
       "   <PIL.Image.Image image mode=RGB size=1024x1024>,\n",
       "   <PIL.Image.Image image mode=RGB size=1024x1024>,\n",
       "   <PIL.Image.Image image mode=RGB size=1024x1024>,\n",
       "   <PIL.Image.Image image mode=RGB size=1024x1024>,\n",
       "   <PIL.Image.Image image mode=RGB size=1024x1024>,\n",
       "   <PIL.Image.Image image mode=RGB size=1024x1024>,\n",
       "   <PIL.Image.Image image mode=RGB size=1024x1024>,\n",
       "   <PIL.Image.Image image mode=RGB size=1024x1024>,\n",
       "   <PIL.Image.Image image mode=RGB size=1024x1024>,\n",
       "   <PIL.Image.Image image mode=RGB size=1024x1024>,\n",
       "   <PIL.Image.Image image mode=RGB size=1024x1024>,\n",
       "   <PIL.Image.Image image mode=RGB size=1024x1024>,\n",
       "   <PIL.Image.Image image mode=RGB size=1024x1024>,\n",
       "   <PIL.Image.Image image mode=RGB size=1024x1024>,\n",
       "   <PIL.Image.Image image mode=RGB size=1024x1024>,\n",
       "   <PIL.Image.Image image mode=RGB size=1024x1024>,\n",
       "   <PIL.Image.Image image mode=RGB size=1024x1024>,\n",
       "   <PIL.Image.Image image mode=RGB size=1024x1024>,\n",
       "   <PIL.Image.Image image mode=RGB size=1024x1024>,\n",
       "   <PIL.Image.Image image mode=RGB size=1024x1024>,\n",
       "   <PIL.Image.Image image mode=RGB size=1024x1024>,\n",
       "   <PIL.Image.Image image mode=RGB size=1024x1024>]},\n",
       " 3: {'prompts': [],\n",
       "  'samples': [<PIL.Image.Image image mode=RGB size=1024x1024>,\n",
       "   <PIL.Image.Image image mode=RGB size=1024x1024>,\n",
       "   <PIL.Image.Image image mode=RGB size=1024x1024>,\n",
       "   <PIL.Image.Image image mode=RGB size=1024x1024>,\n",
       "   <PIL.Image.Image image mode=RGB size=1024x1024>,\n",
       "   <PIL.Image.Image image mode=RGB size=1024x1024>,\n",
       "   <PIL.Image.Image image mode=RGB size=1024x1024>,\n",
       "   <PIL.Image.Image image mode=RGB size=1024x1024>,\n",
       "   <PIL.Image.Image image mode=RGB size=1024x1024>,\n",
       "   <PIL.Image.Image image mode=RGB size=1024x1024>,\n",
       "   <PIL.Image.Image image mode=RGB size=1024x1024>,\n",
       "   <PIL.Image.Image image mode=RGB size=1024x1024>,\n",
       "   <PIL.Image.Image image mode=RGB size=1024x1024>,\n",
       "   <PIL.Image.Image image mode=RGB size=1024x1024>,\n",
       "   <PIL.Image.Image image mode=RGB size=1024x1024>,\n",
       "   <PIL.Image.Image image mode=RGB size=1024x1024>,\n",
       "   <PIL.Image.Image image mode=RGB size=1024x1024>,\n",
       "   <PIL.Image.Image image mode=RGB size=1024x1024>,\n",
       "   <PIL.Image.Image image mode=RGB size=1024x1024>,\n",
       "   <PIL.Image.Image image mode=RGB size=1024x1024>,\n",
       "   <PIL.Image.Image image mode=RGB size=1024x1024>,\n",
       "   <PIL.Image.Image image mode=RGB size=1024x1024>,\n",
       "   <PIL.Image.Image image mode=RGB size=1024x1024>,\n",
       "   <PIL.Image.Image image mode=RGB size=1024x1024>,\n",
       "   <PIL.Image.Image image mode=RGB size=1024x1024>,\n",
       "   <PIL.Image.Image image mode=RGB size=1024x1024>,\n",
       "   <PIL.Image.Image image mode=RGB size=1024x1024>,\n",
       "   <PIL.Image.Image image mode=RGB size=1024x1024>,\n",
       "   <PIL.Image.Image image mode=RGB size=1024x1024>,\n",
       "   <PIL.Image.Image image mode=RGB size=1024x1024>,\n",
       "   <PIL.Image.Image image mode=RGB size=1024x1024>,\n",
       "   <PIL.Image.Image image mode=RGB size=1024x1024>,\n",
       "   <PIL.Image.Image image mode=RGB size=1024x1024>,\n",
       "   <PIL.Image.Image image mode=RGB size=1024x1024>,\n",
       "   <PIL.Image.Image image mode=RGB size=1024x1024>,\n",
       "   <PIL.Image.Image image mode=RGB size=1024x1024>,\n",
       "   <PIL.Image.Image image mode=RGB size=1024x1024>,\n",
       "   <PIL.Image.Image image mode=RGB size=1024x1024>,\n",
       "   <PIL.Image.Image image mode=RGB size=1024x1024>,\n",
       "   <PIL.Image.Image image mode=RGB size=1024x1024>]},\n",
       " 4: {'prompts': [],\n",
       "  'samples': [<PIL.Image.Image image mode=RGB size=1024x1024>,\n",
       "   <PIL.Image.Image image mode=RGB size=1024x1024>,\n",
       "   <PIL.Image.Image image mode=RGB size=1024x1024>,\n",
       "   <PIL.Image.Image image mode=RGB size=1024x1024>,\n",
       "   <PIL.Image.Image image mode=RGB size=1024x1024>,\n",
       "   <PIL.Image.Image image mode=RGB size=1024x1024>,\n",
       "   <PIL.Image.Image image mode=RGB size=1024x1024>,\n",
       "   <PIL.Image.Image image mode=RGB size=1024x1024>,\n",
       "   <PIL.Image.Image image mode=RGB size=1024x1024>,\n",
       "   <PIL.Image.Image image mode=RGB size=1024x1024>,\n",
       "   <PIL.Image.Image image mode=RGB size=1024x1024>,\n",
       "   <PIL.Image.Image image mode=RGB size=1024x1024>,\n",
       "   <PIL.Image.Image image mode=RGB size=1024x1024>,\n",
       "   <PIL.Image.Image image mode=RGB size=1024x1024>,\n",
       "   <PIL.Image.Image image mode=RGB size=1024x1024>,\n",
       "   <PIL.Image.Image image mode=RGB size=1024x1024>,\n",
       "   <PIL.Image.Image image mode=RGB size=1024x1024>,\n",
       "   <PIL.Image.Image image mode=RGB size=1024x1024>,\n",
       "   <PIL.Image.Image image mode=RGB size=1024x1024>,\n",
       "   <PIL.Image.Image image mode=RGB size=1024x1024>,\n",
       "   <PIL.Image.Image image mode=RGB size=1024x1024>,\n",
       "   <PIL.Image.Image image mode=RGB size=1024x1024>,\n",
       "   <PIL.Image.Image image mode=RGB size=1024x1024>,\n",
       "   <PIL.Image.Image image mode=RGB size=1024x1024>,\n",
       "   <PIL.Image.Image image mode=RGB size=1024x1024>,\n",
       "   <PIL.Image.Image image mode=RGB size=1024x1024>,\n",
       "   <PIL.Image.Image image mode=RGB size=1024x1024>,\n",
       "   <PIL.Image.Image image mode=RGB size=1024x1024>,\n",
       "   <PIL.Image.Image image mode=RGB size=1024x1024>,\n",
       "   <PIL.Image.Image image mode=RGB size=1024x1024>,\n",
       "   <PIL.Image.Image image mode=RGB size=1024x1024>,\n",
       "   <PIL.Image.Image image mode=RGB size=1024x1024>,\n",
       "   <PIL.Image.Image image mode=RGB size=1024x1024>,\n",
       "   <PIL.Image.Image image mode=RGB size=1024x1024>,\n",
       "   <PIL.Image.Image image mode=RGB size=1024x1024>,\n",
       "   <PIL.Image.Image image mode=RGB size=1024x1024>,\n",
       "   <PIL.Image.Image image mode=RGB size=1024x1024>,\n",
       "   <PIL.Image.Image image mode=RGB size=1024x1024>,\n",
       "   <PIL.Image.Image image mode=RGB size=1024x1024>,\n",
       "   <PIL.Image.Image image mode=RGB size=1024x1024>]},\n",
       " 5: {'prompts': [],\n",
       "  'samples': [<PIL.Image.Image image mode=RGB size=1024x1024>,\n",
       "   <PIL.Image.Image image mode=RGB size=1024x1024>,\n",
       "   <PIL.Image.Image image mode=RGB size=1024x1024>,\n",
       "   <PIL.Image.Image image mode=RGB size=1024x1024>,\n",
       "   <PIL.Image.Image image mode=RGB size=1024x1024>,\n",
       "   <PIL.Image.Image image mode=RGB size=1024x1024>,\n",
       "   <PIL.Image.Image image mode=RGB size=1024x1024>,\n",
       "   <PIL.Image.Image image mode=RGB size=1024x1024>,\n",
       "   <PIL.Image.Image image mode=RGB size=1024x1024>,\n",
       "   <PIL.Image.Image image mode=RGB size=1024x1024>,\n",
       "   <PIL.Image.Image image mode=RGB size=1024x1024>,\n",
       "   <PIL.Image.Image image mode=RGB size=1024x1024>,\n",
       "   <PIL.Image.Image image mode=RGB size=1024x1024>,\n",
       "   <PIL.Image.Image image mode=RGB size=1024x1024>,\n",
       "   <PIL.Image.Image image mode=RGB size=1024x1024>,\n",
       "   <PIL.Image.Image image mode=RGB size=1024x1024>,\n",
       "   <PIL.Image.Image image mode=RGB size=1024x1024>,\n",
       "   <PIL.Image.Image image mode=RGB size=1024x1024>,\n",
       "   <PIL.Image.Image image mode=RGB size=1024x1024>,\n",
       "   <PIL.Image.Image image mode=RGB size=1024x1024>,\n",
       "   <PIL.Image.Image image mode=RGB size=1024x1024>,\n",
       "   <PIL.Image.Image image mode=RGB size=1024x1024>,\n",
       "   <PIL.Image.Image image mode=RGB size=1024x1024>,\n",
       "   <PIL.Image.Image image mode=RGB size=1024x1024>,\n",
       "   <PIL.Image.Image image mode=RGB size=1024x1024>,\n",
       "   <PIL.Image.Image image mode=RGB size=1024x1024>,\n",
       "   <PIL.Image.Image image mode=RGB size=1024x1024>,\n",
       "   <PIL.Image.Image image mode=RGB size=1024x1024>,\n",
       "   <PIL.Image.Image image mode=RGB size=1024x1024>,\n",
       "   <PIL.Image.Image image mode=RGB size=1024x1024>,\n",
       "   <PIL.Image.Image image mode=RGB size=1024x1024>,\n",
       "   <PIL.Image.Image image mode=RGB size=1024x1024>,\n",
       "   <PIL.Image.Image image mode=RGB size=1024x1024>,\n",
       "   <PIL.Image.Image image mode=RGB size=1024x1024>,\n",
       "   <PIL.Image.Image image mode=RGB size=1024x1024>,\n",
       "   <PIL.Image.Image image mode=RGB size=1024x1024>,\n",
       "   <PIL.Image.Image image mode=RGB size=1024x1024>,\n",
       "   <PIL.Image.Image image mode=RGB size=1024x1024>,\n",
       "   <PIL.Image.Image image mode=RGB size=1024x1024>,\n",
       "   <PIL.Image.Image image mode=RGB size=1024x1024>]}}"
      ]
     },
     "execution_count": 240,
     "metadata": {},
     "output_type": "execute_result"
    }
   ],
   "source": [
    "xd[0]"
   ]
  },
  {
   "cell_type": "markdown",
   "metadata": {},
   "source": [
    "# Metrics"
   ]
  },
  {
   "cell_type": "code",
   "execution_count": 249,
   "metadata": {},
   "outputs": [],
   "source": [
    "DATASETS = [\"watercolor_painting_style\", \"oil_painting_style\", \"colored_smoke_style\", \"wooden_sculpture_style\", \"cartoon_line_drawing_style\"]"
   ]
  },
  {
   "cell_type": "code",
   "execution_count": 250,
   "metadata": {},
   "outputs": [],
   "source": [
    "from lora.metrics import clip_image_metric, dino_metric"
   ]
  },
  {
   "cell_type": "code",
   "execution_count": 251,
   "metadata": {},
   "outputs": [
    {
     "name": "stderr",
     "output_type": "stream",
     "text": [
      "/net/tscratch/people/plglukaszst/envs/lora/lib/python3.11/site-packages/huggingface_hub/file_download.py:1132: FutureWarning: `resume_download` is deprecated and will be removed in version 1.0.0. Downloads always resume when possible. If you want to force a new download, use `force_download=True`.\n",
      "  warnings.warn(\n"
     ]
    },
    {
     "name": "stdout",
     "output_type": "stream",
     "text": [
      "Task number: 0, CLIP: 0.5936103463172913, DINO: 0.2218233197927475\n",
      "Task number: 1, CLIP: 0.5600571632385254, DINO: 0.07089140266180038\n",
      "Task number: 2, CLIP: 0.6261627078056335, DINO: 0.18653252720832825\n",
      "Task number: 3, CLIP: 0.6517712473869324, DINO: 0.2567393481731415\n",
      "Task number: 4, CLIP: 0.4985247552394867, DINO: 0.42831817269325256\n"
     ]
    }
   ],
   "source": [
    "for task in range(5):\n",
    "    model_samples = xd[0][task+1]['samples']\n",
    "    gt_path = os.path.join(\"data/styledrop/\", DATASETS[task])\n",
    "    print(f\"Task number: {task}, CLIP: {clip_image_metric(model_samples, gt_path)}, DINO: {dino_metric(model_samples, gt_path)}\")"
   ]
  },
  {
   "cell_type": "code",
   "execution_count": 242,
   "metadata": {},
   "outputs": [
    {
     "name": "stdout",
     "output_type": "stream",
     "text": [
      "Task number: 0, CLIP: 0.6175274848937988, DINO: 0.36399126052856445\n"
     ]
    }
   ],
   "source": [
    "for task in range(1):\n",
    "    model_samples = xd[1][task+1]['samples']\n",
    "    gt_path = os.path.join(\"data/styledrop/\", DATASETS[task])\n",
    "    print(f\"Task number: {task}, CLIP: {clip_image_metric(model_samples, gt_path)}, DINO: {dino_metric(model_samples, gt_path)}\")"
   ]
  },
  {
   "cell_type": "code",
   "execution_count": 243,
   "metadata": {},
   "outputs": [
    {
     "name": "stdout",
     "output_type": "stream",
     "text": [
      "Task number: 0, CLIP: 0.6069194674491882, DINO: 0.3119345009326935\n",
      "Task number: 1, CLIP: 0.5950239300727844, DINO: 0.22147221863269806\n"
     ]
    }
   ],
   "source": [
    "for task in range(2):\n",
    "    model_samples = xd[2][task+1]['samples']\n",
    "    gt_path = os.path.join(\"data/styledrop/\", DATASETS[task])\n",
    "    print(f\"Task number: {task}, CLIP: {clip_image_metric(model_samples, gt_path)}, DINO: {dino_metric(model_samples, gt_path)}\")"
   ]
  },
  {
   "cell_type": "code",
   "execution_count": 244,
   "metadata": {},
   "outputs": [
    {
     "name": "stdout",
     "output_type": "stream",
     "text": [
      "Task number: 0, CLIP: 0.6238088607788086, DINO: 0.2925003468990326\n",
      "Task number: 1, CLIP: 0.5929635167121887, DINO: 0.1299789398908615\n",
      "Task number: 2, CLIP: 0.6789082884788513, DINO: 0.2717847228050232\n"
     ]
    }
   ],
   "source": [
    "for task in range(3):\n",
    "    model_samples = xd[3][task+1]['samples']\n",
    "    gt_path = os.path.join(\"data/styledrop/\", DATASETS[task])\n",
    "    print(f\"Task number: {task}, CLIP: {clip_image_metric(model_samples, gt_path)}, DINO: {dino_metric(model_samples, gt_path)}\")"
   ]
  },
  {
   "cell_type": "code",
   "execution_count": 245,
   "metadata": {},
   "outputs": [
    {
     "name": "stdout",
     "output_type": "stream",
     "text": [
      "Task number: 0, CLIP: 0.6250138282775879, DINO: 0.2822725176811218\n",
      "Task number: 1, CLIP: 0.5691311955451965, DINO: 0.11586395651102066\n",
      "Task number: 2, CLIP: 0.6546646356582642, DINO: 0.09583880752325058\n",
      "Task number: 3, CLIP: 0.7081984877586365, DINO: 0.4172306954860687\n"
     ]
    }
   ],
   "source": [
    "for task in range(4):\n",
    "    model_samples = xd[4][task+1]['samples']\n",
    "    gt_path = os.path.join(\"data/styledrop/\", DATASETS[task])\n",
    "    print(f\"Task number: {task}, CLIP: {clip_image_metric(model_samples, gt_path)}, DINO: {dino_metric(model_samples, gt_path)}\")"
   ]
  },
  {
   "cell_type": "code",
   "execution_count": 246,
   "metadata": {},
   "outputs": [
    {
     "name": "stdout",
     "output_type": "stream",
     "text": [
      "Task number: 0, CLIP: 0.6035056114196777, DINO: 0.29515132308006287\n",
      "Task number: 1, CLIP: 0.5694054365158081, DINO: 0.06859054416418076\n",
      "Task number: 2, CLIP: 0.6418136358261108, DINO: 0.1970469355583191\n",
      "Task number: 3, CLIP: 0.6867523193359375, DINO: 0.3445904552936554\n",
      "Task number: 4, CLIP: 0.4970206320285797, DINO: 0.4175999164581299\n"
     ]
    }
   ],
   "source": [
    "for task in range(5):\n",
    "    model_samples = xd[5][task+1]['samples']\n",
    "    gt_path = os.path.join(\"data/styledrop/\", DATASETS[task])\n",
    "    print(f\"Task number: {task}, CLIP: {clip_image_metric(model_samples, gt_path)}, DINO: {dino_metric(model_samples, gt_path)}\")"
   ]
  },
  {
   "cell_type": "code",
   "execution_count": 255,
   "metadata": {},
   "outputs": [
    {
     "data": {
      "image/png": "[encoded data removed]",
      "text/plain": [
       "<Figure size 800x400 with 2 Axes>"
      ]
     },
     "metadata": {},
     "output_type": "display_data"
    },
    {
     "data": {
      "image/png": "[encoded data removed]",
      "text/plain": [
       "<Figure size 800x400 with 2 Axes>"
      ]
     },
     "metadata": {},
     "output_type": "display_data"
    }
   ],
   "source": [
    "import numpy as np\n",
    "import pandas as pd\n",
    "import seaborn as sns\n",
    "from matplotlib import pyplot as plt\n",
    "\n",
    "# Creating a matrix for the incremental model performance for heatmap\n",
    "clip_matrix_updated = np.array([\n",
    "    [0.5915667414665222, 0.557922899723053, 0.631373405456543, 0.649736762046814, 0.5014150142669678],\n",
    "    [0.6314317584037781, np.nan, np.nan, np.nan, np.nan],\n",
    "    [0.6097226142883301, 0.6070818305015564, np.nan, np.nan, np.nan],\n",
    "    [0.6411687135696411, 0.5970920920372009, 0.7478613257408142, np.nan, np.nan],\n",
    "    [0.6149083375930786, 0.5654003024101257, 0.6246252059936523, 0.7621899843215942, np.nan],\n",
    "    [0.5909754633903503, 0.5474587678909302, 0.6293401122093201, 0.6726295351982117, 0.5590265393257141]\n",
    "]).T\n",
    "\n",
    "dino_matrix_updated = np.array([\n",
    "    [0.22539949417114258, 0.07449301332235336, 0.18638978898525238, 0.2520217299461365, 0.4309535622596741],\n",
    "    [0.4041808545589447, np.nan, np.nan, np.nan, np.nan],\n",
    "    [0.28482845425605774, 0.2720974087715149, np.nan, np.nan, np.nan],\n",
    "    [0.29327940940856934, 0.16400940716266632, 0.39082106947898865, np.nan, np.nan],\n",
    "    [0.24281631410121918, 0.14737513661384583, 0.04183489456772804, 0.5071339011192322, np.nan],\n",
    "    [0.20504982769489288, 0.07990869134664536, 0.25962793827056885, 0.32778987288475037, 0.6091178059577942]\n",
    "]).T\n",
    "\n",
    "tasks = ['No task','Task 1', 'Task 2', 'Task 3', 'Task 4', 'Task 5']\n",
    "colormap = 'YlOrRd'\n",
    "\n",
    "# Plotting the heatmap for CLIP metric\n",
    "plt.figure(figsize=(8, 4))\n",
    "sns.heatmap(clip_matrix_updated, annot=True, fmt=\".3f\", cmap=colormap, xticklabels=tasks, yticklabels=tasks[1:], linewidths=.9, linecolor='black')\n",
    "plt.title('CLIP-I Alignment Score on next tasks')\n",
    "plt.xlabel('Model after')\n",
    "plt.ylabel('Task Number')\n",
    "plt.savefig(\"fig1styler256.svg\")\n",
    "plt.show()\n",
    "\n",
    "# Plotting the heatmap for DINO metric\n",
    "plt.figure(figsize=(8, 4))\n",
    "sns.heatmap(dino_matrix_updated, annot=True, fmt=\".3f\", cmap=colormap, xticklabels=tasks, yticklabels=tasks[1:], linewidths=.9, linecolor='black')\n",
    "plt.title('DINO Alignment Score on next tasks')\n",
    "plt.xlabel('Model after')\n",
    "plt.ylabel('Task Number')\n",
    "plt.savefig(\"fig2styler256.svg\")\n",
    "plt.show()"
   ]
  },
  {
   "cell_type": "code",
   "execution_count": 216,
   "metadata": {},
   "outputs": [
    {
     "data": {
      "image/png": "[encoded data removed]",
      "text/plain": [
       "<Figure size 1000x400 with 1 Axes>"
      ]
     },
     "metadata": {},
     "output_type": "display_data"
    }
   ],
   "source": [
    "import matplotlib.pyplot as plt\n",
    "import numpy as np\n",
    "\n",
    "# Set up the plot style and colors\n",
    "plt.style.use('ggplot')\n",
    "plt.rcParams.update({\n",
    "    'axes.facecolor': '#f0f0f0',  # Light gray background for the plot area\n",
    "    'figure.facecolor': '#ffffff',  # Light gray background for the figure\n",
    "    'grid.color': 'white',\n",
    "    'axes.edgecolor': 'gray',\n",
    "    'axes.linewidth': 1.0,\n",
    "    'axes.labelcolor': 'gray',\n",
    "    'xtick.color': 'gray',\n",
    "    'ytick.color': 'gray',\n",
    "    'font.size': 12,\n",
    "    'legend.fontsize': 10,\n",
    "    'legend.title_fontsize': 10,\n",
    "    'figure.figsize': (14, 7)\n",
    "})\n",
    "\n",
    "plt.figure(figsize=(10, 4))\n",
    "\n",
    "# Transpose the matrix for easier plotting\n",
    "clip_matrix_updated_transposed = clip_matrix_updated.T\n",
    "\n",
    "# Define a list of colors for each task finished\n",
    "colors = plt.cm.viridis(np.linspace(0, 1, clip_matrix_updated_transposed.shape[1] + 1))\n",
    "markers = ['o', 's', '^', 'D', 'P', 'X', 'H']\n",
    "\n",
    "for task_finished in range(clip_matrix_updated_transposed.shape[1] + 1):\n",
    "    if task_finished == 0:\n",
    "        y = clip_matrix_updated_transposed[0, :]\n",
    "        x = np.arange(y.shape[0]) + 1\n",
    "        plt.plot(x, y, marker=markers[task_finished], color=colors[task_finished], \n",
    "                 linestyle='--', linewidth=2, markersize=7, label='Base')\n",
    "    elif task_finished == 1:\n",
    "        y = clip_matrix_updated_transposed[task_finished, 0]\n",
    "        x = [1]\n",
    "        plt.plot(x, y, marker=markers[task_finished], color=colors[task_finished], \n",
    "                 linestyle='', markersize=7, label=f'After task {task_finished}')\n",
    "    else:\n",
    "        y = clip_matrix_updated_transposed[task_finished, :]\n",
    "        x = np.arange(y.shape[0]) + 1\n",
    "        plt.plot(x, y, marker=markers[task_finished], color=colors[task_finished], \n",
    "                 linestyle='-', linewidth=2, markersize=7, label=f'After task {task_finished}')\n",
    "\n",
    "# Add title and labels\n",
    "plt.title('CLIP-I Alignment on each task\\nduring each phase of task-incremental training', fontsize=13)\n",
    "plt.xlabel('Task Number', fontsize=14, color='gray')\n",
    "plt.ylabel('CLIP-I Score', fontsize=14, color='gray')\n",
    "plt.xticks(ticks=np.arange(1, len(tasks)), labels=tasks[1:], fontsize=12, color='gray')\n",
    "plt.yticks(fontsize=12, color='gray')\n",
    "\n",
    "# Add legend and grid\n",
    "plt.legend(title='Model type', fontsize=10, title_fontsize='12', bbox_to_anchor=(1.05, 1), loc='upper left')\n",
    "plt.grid(True, linestyle='-', linewidth=0.7, color='white', alpha=0.7)\n",
    "\n",
    "# Adjust layout\n",
    "plt.tight_layout(rect=[0, 0, 0.85, 1])\n",
    "plt.savefig(\"fig3style.svg\")\n",
    "\n",
    "plt.show()\n"
   ]
  },
  {
   "cell_type": "code",
   "execution_count": 217,
   "metadata": {},
   "outputs": [
    {
     "data": {
      "image/png": "[encoded data removed]",
      "text/plain": [
       "<Figure size 1000x400 with 1 Axes>"
      ]
     },
     "metadata": {},
     "output_type": "display_data"
    }
   ],
   "source": [
    "import matplotlib.pyplot as plt\n",
    "import numpy as np\n",
    "\n",
    "# Set up the plot style and colors\n",
    "plt.style.use('ggplot')\n",
    "plt.rcParams.update({\n",
    "    'axes.facecolor': '#f0f0f0',  # Light gray background for the plot area\n",
    "    'figure.facecolor': '#ffffff',  # Light gray background for the figure\n",
    "    'grid.color': 'white',\n",
    "    'axes.edgecolor': 'gray',\n",
    "    'axes.linewidth': 1.0,\n",
    "    'axes.labelcolor': 'gray',\n",
    "    'xtick.color': 'gray',\n",
    "    'ytick.color': 'gray',\n",
    "    'font.size': 12,\n",
    "    'legend.fontsize': 10,\n",
    "    'legend.title_fontsize': 10,\n",
    "    'figure.figsize': (14, 7)\n",
    "})\n",
    "\n",
    "plt.figure(figsize=(10, 4))\n",
    "\n",
    "# Transpose the matrix for easier plotting\n",
    "dino_matrix_updated_transposed = dino_matrix_updated.T\n",
    "\n",
    "# Define a list of colors for each task finished\n",
    "colors = plt.cm.viridis(np.linspace(0, 1, dino_matrix_updated_transposed.shape[1] + 1))\n",
    "markers = ['o', 's', '^', 'D', 'P', 'X', 'H']\n",
    "\n",
    "for task_finished in range(dino_matrix_updated_transposed.shape[1] + 1):\n",
    "    if task_finished == 0:\n",
    "        y = dino_matrix_updated_transposed[0, :]\n",
    "        x = np.arange(y.shape[0]) + 1\n",
    "        plt.plot(x, y, marker=markers[task_finished], color=colors[task_finished], \n",
    "                 linestyle='--', linewidth=2, markersize=7, label='Base')\n",
    "    elif task_finished == 1:\n",
    "        y = dino_matrix_updated_transposed[task_finished, 0]\n",
    "        x = [1]\n",
    "        plt.plot(x, y, marker=markers[task_finished], color=colors[task_finished], \n",
    "                 linestyle='', markersize=7, label=f'After task {task_finished}')\n",
    "    else:\n",
    "        y = dino_matrix_updated_transposed[task_finished, :]\n",
    "        x = np.arange(y.shape[0]) + 1\n",
    "        plt.plot(x, y, marker=markers[task_finished], color=colors[task_finished], \n",
    "                 linestyle='-', linewidth=2, markersize=7, label=f'After task {task_finished}')\n",
    "\n",
    "# Add title and labels\n",
    "plt.title('DINO Image Alignment on each task\\nduring each phase of task-incremental training', fontsize=13)\n",
    "plt.xlabel('Task Number', fontsize=14, color='gray')\n",
    "plt.ylabel('DINO Score', fontsize=14, color='gray')\n",
    "plt.xticks(ticks=np.arange(1, len(tasks)), labels=tasks[1:], fontsize=12, color='gray')\n",
    "plt.yticks(fontsize=12, color='gray')\n",
    "\n",
    "# Add legend and grid\n",
    "plt.legend(title='Model type', fontsize=10, title_fontsize='12', bbox_to_anchor=(1.05, 1), loc='upper left')\n",
    "plt.grid(True, linestyle='-', linewidth=0.7, color='white', alpha=0.7)\n",
    "\n",
    "# Adjust layout\n",
    "plt.tight_layout(rect=[0, 0, 0.85, 1])\n",
    "plt.savefig(\"fig4style.svg\")\n",
    "\n",
    "plt.show()\n"
   ]
  },
  {
   "cell_type": "code",
   "execution_count": 256,
   "metadata": {},
   "outputs": [
    {
     "data": {
      "text/plain": [
       "(0.6287083464860916, 0.0782189816236496)"
      ]
     },
     "execution_count": 256,
     "metadata": {},
     "output_type": "execute_result"
    }
   ],
   "source": [
    "def calculate_final_metrics(accuracy_matrix):\n",
    "    T = accuracy_matrix.shape[0]\n",
    "    \n",
    "    # Calculate average accuracy\n",
    "    avg_accuracies = []\n",
    "    for i in range(T):\n",
    "        valid_accuracies = [accuracy_matrix[i, j] for j in range(i + 1) if not np.isnan(accuracy_matrix[i, j])]\n",
    "        if valid_accuracies:\n",
    "            avg_accuracies.append(np.mean(valid_accuracies))\n",
    "    final_avg_accuracy = np.mean(avg_accuracies)\n",
    "    \n",
    "    # Calculate average forgetting\n",
    "    forgetting_values = []\n",
    "    for j in range(T):\n",
    "        task_accuracies = [accuracy_matrix[i, j] for i in range(T) if not np.isnan(accuracy_matrix[i, j])]\n",
    "        if len(task_accuracies) > 1:\n",
    "            initial_accuracy = task_accuracies[0]\n",
    "            max_forgetting = max(initial_accuracy - acc for acc in task_accuracies[1:])\n",
    "            forgetting_values.append(max_forgetting)\n",
    "    final_avg_forgetting = np.mean(forgetting_values) if forgetting_values else 0.0\n",
    "    \n",
    "    return final_avg_accuracy, final_avg_forgetting\n",
    "\n",
    "# Provided matrix\n",
    "accuracy_matrix = np.array([\n",
    "    [0.6314317584037781, np.nan, np.nan, np.nan, np.nan],\n",
    "    [0.6097226142883301, 0.6070818305015564, np.nan, np.nan, np.nan],\n",
    "    [0.6411687135696411, 0.5970920920372009, 0.7478613257408142, np.nan, np.nan],\n",
    "    [0.6149083375930786, 0.5654003024101257, 0.6246252059936523, 0.7621899843215942, np.nan],\n",
    "    [0.5909754633903503, 0.5474587678909302, 0.6293401122093201, 0.6726295351982117, 0.5590265393257141]\n",
    "])\n",
    "\n",
    "final_avg_accuracy, final_avg_forgetting = calculate_final_metrics(accuracy_matrix)\n",
    "final_avg_accuracy, final_avg_forgetting"
   ]
  },
  {
   "cell_type": "code",
   "execution_count": 257,
   "metadata": {},
   "outputs": [
    {
     "data": {
      "text/plain": [
       "(0.29928719405084847, 0.22991248685866594)"
      ]
     },
     "execution_count": 257,
     "metadata": {},
     "output_type": "execute_result"
    }
   ],
   "source": [
    "accuracy_matrix = np.array([\n",
    "    [0.4041808545589447, np.nan, np.nan, np.nan, np.nan],\n",
    "    [0.28482845425605774, 0.2720974087715149, np.nan, np.nan, np.nan],\n",
    "    [0.29327940940856934, 0.16400940716266632, 0.39082106947898865, np.nan, np.nan],\n",
    "    [0.24281631410121918, 0.14737513661384583, 0.04183489456772804, 0.5071339011192322, np.nan],\n",
    "    [0.20504982769489288, 0.07990869134664536, 0.25962793827056885, 0.32778987288475037, 0.6091178059577942]\n",
    "])\n",
    "\n",
    "final_avg_accuracy, final_avg_forgetting = calculate_final_metrics(accuracy_matrix)\n",
    "final_avg_accuracy, final_avg_forgetting"
   ]
  },
  {
   "cell_type": "code",
   "execution_count": 260,
   "metadata": {},
   "outputs": [
    {
     "data": {
      "text/plain": [
       "(0.6178688605626423, 0.02461385726928711)"
      ]
     },
     "execution_count": 260,
     "metadata": {},
     "output_type": "execute_result"
    }
   ],
   "source": [
    "accuracy_matrix = np.array([\n",
    "    [0.6175274848937988, np.nan, np.nan, np.nan, np.nan],\n",
    "    [0.6069194674491882, 0.5950239300727844, np.nan, np.nan, np.nan],\n",
    "    [0.6238088607788086, 0.5929635167121887, 0.6789082884788513, np.nan, np.nan],\n",
    "    [0.6250138282775879, 0.5691311955451965, 0.6546646356582642, 0.7081984877586365, np.nan],\n",
    "    [0.6035056114196777, 0.5694054365158081, 0.6418136358261108, 0.6867523193359375, 0.4970206320285797]\n",
    "])\n",
    "\n",
    "final_avg_accuracy, final_avg_forgetting = calculate_final_metrics(accuracy_matrix)\n",
    "final_avg_accuracy, final_avg_forgetting"
   ]
  },
  {
   "cell_type": "code",
   "execution_count": 261,
   "metadata": {
    "collapsed": true,
    "jupyter": {
     "outputs_hidden": true
    }
   },
   "outputs": [
    {
     "data": {
      "text/plain": [
       "(0.2709026572108269, 0.12079664319753647)"
      ]
     },
     "execution_count": 261,
     "metadata": {},
     "output_type": "execute_result"
    }
   ],
   "source": [
    "accuracy_matrix = np.array([\n",
    "    [0.36399126052856445, np.nan, np.nan, np.nan, np.nan],\n",
    "    [0.3119345009326935, 0.22147221863269806, np.nan, np.nan, np.nan],\n",
    "    [0.2925003468990326, 0.1299789398908615, 0.2717847228050232, np.nan, np.nan],\n",
    "    [0.2822725176811218, 0.11586395651102066, 0.09583880752325058, 0.4172306954860687, np.nan],\n",
    "    [0.29515132308006287, 0.06859054416418076, 0.1970469355583191, 0.3445904552936554, 0.4175999164581299]\n",
    "])\n",
    "\n",
    "final_avg_accuracy, final_avg_forgetting = calculate_final_metrics(accuracy_matrix)\n",
    "final_avg_accuracy, final_avg_forgetting"
   ]
  },
  {
   "cell_type": "code",
   "execution_count": null,
   "metadata": {},
   "outputs": [],
   "source": []
  },
  {
   "cell_type": "code",
   "execution_count": 262,
   "metadata": {},
   "outputs": [
    {
     "data": {
      "text/plain": [
       "(0.6154267372687657, 0.03193181753158569)"
      ]
     },
     "execution_count": 262,
     "metadata": {},
     "output_type": "execute_result"
    }
   ],
   "source": [
    "accuracy_matrix = np.array([\n",
    "    [0.624005913734436, np.nan, np.nan, np.nan, np.nan],\n",
    "    [0.6173079609870911, 0.6026208996772766, np.nan, np.nan, np.nan],\n",
    "    [0.601495087146759, 0.5707738995552063, 0.6571434140205383, np.nan, np.nan],\n",
    "    [0.6376327276229858, 0.5846818089485168, 0.6577308773994446, 0.6624749302864075, np.nan],\n",
    "    [0.6157271862030029, 0.572004497051239, 0.6165396571159363, 0.6297092437744141, 0.5546650290489197]\n",
    "])\n",
    "\n",
    "final_avg_accuracy, final_avg_forgetting = calculate_final_metrics(accuracy_matrix)\n",
    "final_avg_accuracy, final_avg_forgetting"
   ]
  },
  {
   "cell_type": "code",
   "execution_count": 263,
   "metadata": {},
   "outputs": [
    {
     "data": {
      "text/plain": [
       "(0.24979340674976508, 0.14244262501597404)"
      ]
     },
     "execution_count": 263,
     "metadata": {},
     "output_type": "execute_result"
    }
   ],
   "source": [
    "accuracy_matrix = np.array([\n",
    "     [0.35372039675712585, np.nan, np.nan, np.nan, np.nan],\n",
    "    [0.3050145208835602, 0.27117177844047546, np.nan, np.nan, np.nan],\n",
    "    [0.23603737354278564, 0.06551206856966019, 0.1518050730228424, np.nan, np.nan],\n",
    "    [0.27489903569221497, 0.12522797286510468, 0.0896523967385292, 0.3381164073944092, np.nan],\n",
    "    [0.19007249176502228, 0.10566291958093643, 0.17658631503582, 0.19980619847774506, 0.5731788873672485]\n",
    "])\n",
    "\n",
    "final_avg_accuracy, final_avg_forgetting = calculate_final_metrics(accuracy_matrix)\n",
    "final_avg_accuracy, final_avg_forgetting"
   ]
  },
  {
   "cell_type": "code",
   "execution_count": 264,
   "metadata": {},
   "outputs": [
    {
     "data": {
      "text/plain": [
       "(0.6262282824516296, 0.019788876175880432)"
      ]
     },
     "execution_count": 264,
     "metadata": {},
     "output_type": "execute_result"
    }
   ],
   "source": [
    "accuracy_matrix = np.array([\n",
    "    [0.6340597867965698, np.nan, np.nan, np.nan, np.nan],\n",
    "    [0.6207391619682312, 0.5846291184425354, np.nan, np.nan, np.nan],\n",
    "    [0.626923680305481, 0.5861591696739197, 0.6827797293663025, np.nan, np.nan],\n",
    "    [0.6323815584182739, 0.5890557765960693, 0.6782455444335938, 0.6898387670516968, np.nan],\n",
    "    [0.6310593485832214, 0.5721332430839539, 0.6501951217651367, 0.669084370136261, 0.5528423190116882]\n",
    "])\n",
    "\n",
    "final_avg_accuracy, final_avg_forgetting = calculate_final_metrics(accuracy_matrix)\n",
    "final_avg_accuracy, final_avg_forgetting"
   ]
  },
  {
   "cell_type": "code",
   "execution_count": 266,
   "metadata": {},
   "outputs": [
    {
     "data": {
      "text/plain": [
       "(0.2628333529581626, 0.10539352707564831)"
      ]
     },
     "execution_count": 266,
     "metadata": {},
     "output_type": "execute_result"
    }
   ],
   "source": [
    "accuracy_matrix = np.array([\n",
    "    [0.3355186879634857, np.nan, np.nan, np.nan, np.nan],\n",
    "    [0.3266209661960602, 0.16053076088428497, np.nan, np.nan, np.nan],\n",
    "    [0.28707218170166016, 0.0950699970126152, 0.2956484258174896, np.nan, np.nan],\n",
    "    [0.27234792709350586, 0.12154855579137802, 0.1563342958688736, 0.38109561800956726, np.nan],\n",
    "    [0.2462640255689621, 0.07805424183607101, 0.2054959386587143, 0.27056682109832764, 0.5811710357666016]\n",
    "])\n",
    "\n",
    "final_avg_accuracy, final_avg_forgetting = calculate_final_metrics(accuracy_matrix)\n",
    "final_avg_accuracy, final_avg_forgetting"
   ]
  },
  {
   "cell_type": "code",
   "execution_count": null,
   "metadata": {},
   "outputs": [],
   "source": []
  },
  {
   "cell_type": "code",
   "execution_count": 269,
   "metadata": {},
   "outputs": [
    {
     "data": {
      "text/plain": [
       "(0.7567091810703277, 0.08468031883239746)"
      ]
     },
     "execution_count": 269,
     "metadata": {},
     "output_type": "execute_result"
    }
   ],
   "source": [
    "accuracy_matrix = np.array([\n",
    "    [0.793428897857666, np.nan, np.nan, np.nan, np.nan],\n",
    "    [0.7774552702903748, 0.6929765939712524, np.nan, np.nan, np.nan],\n",
    "    [0.7595664858818054, 0.6193699836730957, 0.8358353972434998, np.nan, np.nan],\n",
    "    [0.7758440375328064, 0.6356817483901978, 0.8082953691482544, 0.8604705929756165, np.nan],\n",
    "    [0.7445307970046997, 0.7092705368995667, 0.7584363222122192, 0.7216531038284302, 0.7989634871482849]\n",
    "])\n",
    "final_avg_accuracy, final_avg_forgetting = calculate_final_metrics(accuracy_matrix)\n",
    "final_avg_accuracy, final_avg_forgetting\n"
   ]
  },
  {
   "cell_type": "code",
   "execution_count": 270,
   "metadata": {},
   "outputs": [
    {
     "data": {
      "text/plain": [
       "(0.5807535357276599, 0.17798097431659698)"
      ]
     },
     "execution_count": 270,
     "metadata": {},
     "output_type": "execute_result"
    }
   ],
   "source": [
    "accuracy_matrix = np.array([\n",
    "    [0.7291561365127563, np.nan, np.nan, np.nan, np.nan],\n",
    "    [0.6832629442214966, 0.4377683699131012, np.nan, np.nan, np.nan],\n",
    "    [0.5687738656997681, 0.2634895443916321, 0.7843140363693237, np.nan, np.nan],\n",
    "    [0.5982953906059265, 0.3198055922985077, 0.7366825342178345, 0.5764378905296326, np.nan],\n",
    "    [0.5000820159912109, 0.4243290424346924, 0.5995821952819824, 0.45259878039360046, 0.6105648875236511]\n",
    "])\n",
    "final_avg_accuracy, final_avg_forgetting = calculate_final_metrics(accuracy_matrix)\n",
    "final_avg_accuracy, final_avg_forgetting"
   ]
  },
  {
   "cell_type": "code",
   "execution_count": null,
   "metadata": {},
   "outputs": [],
   "source": []
  },
  {
   "cell_type": "code",
   "execution_count": 271,
   "metadata": {},
   "outputs": [
    {
     "data": {
      "text/plain": [
       "(0.7646436052560807, 0.06448794901371002)"
      ]
     },
     "execution_count": 271,
     "metadata": {},
     "output_type": "execute_result"
    }
   ],
   "source": [
    "accuracy_matrix = np.array([\n",
    "    [0.7672311663627625, np.nan, np.nan, np.nan, np.nan],\n",
    "    [0.7478558421134949, 0.8447762727737427, np.nan, np.nan, np.nan],\n",
    "    [0.6973913311958313, 0.7606914639472961, 0.8467984199523926, np.nan, np.nan],\n",
    "    [0.7652674059867859, 0.7815966010093689, 0.7972794771194458, 0.6590635180473328, np.nan],\n",
    "    [0.699261486530304, 0.7893842458724976, 0.7865535616874695, 0.6152812242507935, 0.8123960494995117]\n",
    "])\n",
    "final_avg_accuracy, final_avg_forgetting = calculate_final_metrics(accuracy_matrix)\n",
    "final_avg_accuracy, final_avg_forgetting\n"
   ]
  },
  {
   "cell_type": "code",
   "execution_count": 272,
   "metadata": {},
   "outputs": [
    {
     "data": {
      "text/plain": [
       "(0.555625334282716, 0.1334269680082798)"
      ]
     },
     "execution_count": 272,
     "metadata": {},
     "output_type": "execute_result"
    }
   ],
   "source": [
    "accuracy_matrix = np.array([\n",
    "    [0.6100791692733765, np.nan, np.nan, np.nan, np.nan],\n",
    "    [0.560372531414032, 0.5591630339622498, np.nan, np.nan, np.nan],\n",
    "    [0.454707533121109, 0.46327629685401917, 0.8003391623497009, np.nan, np.nan],\n",
    "    [0.5761002898216248, 0.47583648562431335, 0.6626940965652466, 0.37658119201660156, np.nan],\n",
    "    [0.46788525581359863, 0.4650656282901764, 0.6821586489677429, 0.23177675902843475, 0.7166255712509155]\n",
    "])\n",
    "final_avg_accuracy, final_avg_forgetting = calculate_final_metrics(accuracy_matrix)\n",
    "final_avg_accuracy, final_avg_forgetting"
   ]
  },
  {
   "cell_type": "code",
   "execution_count": null,
   "metadata": {},
   "outputs": [],
   "source": []
  }
 ],
 "metadata": {
  "kernelspec": {
   "display_name": "Python 3 (ipykernel)",
   "language": "python",
   "name": "python3"
  },
  "language_info": {
   "codemirror_mode": {
    "name": "ipython",
    "version": 3
   },
   "file_extension": ".py",
   "mimetype": "text/x-python",
   "name": "python",
   "nbconvert_exporter": "python",
   "pygments_lexer": "ipython3",
   "version": "3.11.9"
  }
 },
 "nbformat": 4,
 "nbformat_minor": 4
}
